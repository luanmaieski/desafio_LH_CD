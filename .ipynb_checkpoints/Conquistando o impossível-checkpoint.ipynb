{
 "cells": [
  {
   "cell_type": "code",
   "execution_count": null,
   "id": "2d2e026f",
   "metadata": {},
   "outputs": [],
   "source": []
  },
  {
   "cell_type": "code",
   "execution_count": null,
   "id": "93fa5c28",
   "metadata": {},
   "outputs": [],
   "source": []
  },
  {
   "cell_type": "code",
   "execution_count": null,
   "id": "c5f7b18b",
   "metadata": {},
   "outputs": [],
   "source": []
  },
  {
   "cell_type": "markdown",
   "id": "ca32f85e",
   "metadata": {},
   "source": [
    "# =================== COMEÇO =========================="
   ]
  },
  {
   "cell_type": "code",
   "execution_count": 17,
   "id": "67729eee",
   "metadata": {
    "ExecuteTime": {
     "end_time": "2023-07-18T14:58:42.007394Z",
     "start_time": "2023-07-18T14:58:41.985392Z"
    }
   },
   "outputs": [],
   "source": [
    "import pandas as pd\n",
    "import numpy as np\n",
    "import seaborn as sns\n",
    "import unicodedata\n",
    "import math\n",
    "import pickle\n",
    "from IPython.core.display  import HTML\n",
    "from matplotlib import pyplot as plt\n",
    "from sklearn                 import model_selection as ms\n",
    "from sklearn                 import preprocessing as pp\n",
    "from sklearn.linear_model  import LinearRegression, Lasso\n",
    "from sklearn.ensemble      import RandomForestRegressor\n",
    "from sklearn.metrics       import mean_absolute_error, mean_absolute_percentage_error, mean_squared_error\n",
    "from sklearn.model_selection import cross_val_score, KFold\n",
    "import xgboost as xgb\n",
    "import lightgbm as lgbm\n",
    "import catboost as catb\n",
    "\n",
    "from boruta import BorutaPy\n",
    "from scipy.stats import expon, randint\n",
    "\n",
    "import warnings\n",
    "warnings.filterwarnings( 'ignore' )\n",
    "from data_preprocessing import preprocess_data, feature_engineering, main\n",
    "from transformation import Transformation\n"
   ]
  },
  {
   "cell_type": "markdown",
   "id": "bae57e15",
   "metadata": {},
   "source": [
    "# Helper Functions"
   ]
  },
  {
   "cell_type": "code",
   "execution_count": 18,
   "id": "7ae2015c",
   "metadata": {
    "ExecuteTime": {
     "end_time": "2023-07-18T14:58:44.455378Z",
     "start_time": "2023-07-18T14:58:44.419383Z"
    }
   },
   "outputs": [
    {
     "name": "stdout",
     "output_type": "stream",
     "text": [
      "%pylab is deprecated, use %matplotlib inline and import the required libraries.\n",
      "Populating the interactive namespace from numpy and matplotlib\n"
     ]
    },
    {
     "data": {
      "text/html": [
       "<style>.container {width:90% !important; }</style>"
      ],
      "text/plain": [
       "<IPython.core.display.HTML object>"
      ]
     },
     "metadata": {},
     "output_type": "display_data"
    }
   ],
   "source": [
    "def jupyter_settings():\n",
    "    %matplotlib inline\n",
    "    %pylab inline\n",
    "    plt.rcParams['figure.figsize'] = [25, 15]\n",
    "    plt.rcParams['font.size'] = 24\n",
    "    \n",
    "    display( HTML( '<style>.container {width:90% !important; }</style>') )\n",
    "    pd.options.display.max_columns = None\n",
    "    pd.options.display.max_rows = None\n",
    "    pd.set_option( 'display.expand_frame_repr', False )\n",
    "    sns.set_theme(style=\"darkgrid\", palette='hls')\n",
    "    # sns.color_palette(\"crest\", as_cmap=True)\n",
    "    # sns.color_palette(\"magma\", as_cmap=True)\n",
    "    # sns.color_palette(\"flare\", as_cmap=True)\n",
    "    # Increase chart size for better readability\n",
    "    #sns.set(rc={'figure.figsize':(11,6)})\n",
    "\n",
    "jupyter_settings()\n",
    "\n",
    "def mean_percentage_error( y, yhat ):\n",
    "    return np.mean( ( y - yhat ) / y )\n",
    "\n",
    "def ml_error( model_name, y, yhat ):\n",
    "    mae = mean_absolute_error( y, yhat )\n",
    "    mape = mean_absolute_percentage_error( y, yhat )\n",
    "    rmse = np.sqrt( mean_squared_error( y, yhat ) )\n",
    "\n",
    "    return pd.DataFrame( { 'Model Name': [model_name],\n",
    "                           'MAE': [mae],\n",
    "                           'MAPE': [mape],\n",
    "                           'RMSE': [rmse]} )\n",
    "\n",
    "def cross_validation_regression(model, x_train, y_train, k, verbose=True):\n",
    "    kf = KFold(n_splits=k, shuffle=True, random_state=42)\n",
    "    mae_list = []\n",
    "    mape_list = []\n",
    "    rmse_list = []\n",
    "    i = 1    \n",
    "    for train_cv, val_cv in kf.split(x_train, y_train):\n",
    "        if verbose:\n",
    "            print(f'Fold Number {i}/{k}') \n",
    "        else:\n",
    "            pass\n",
    "\n",
    "        x_train_fold = x_train.iloc[train_cv]\n",
    "        y_train_fold = y_train.iloc[train_cv]\n",
    "\n",
    "        x_val_fold = x_train.iloc[val_cv]\n",
    "        y_val_fold = y_train.iloc[val_cv]\n",
    "\n",
    "        # fit model\n",
    "        model.fit(x_train_fold, y_train_fold)\n",
    "\n",
    "        # predict\n",
    "        yhat_model = model.predict(x_val_fold)\n",
    "\n",
    "        #performance\n",
    "        m_result = ml_error( model, np.expm1( y_val_fold ), np.expm1( yhat_model ) )\n",
    "        \n",
    "        # Calculate regression metrics for the fold\n",
    "        mae_list.append( m_result[ 'MAE' ] )\n",
    "        mape_list.append( m_result[ 'MAPE' ] )\n",
    "        rmse_list.append( m_result[ 'RMSE' ] )\n",
    "       \n",
    "        i += 1\n",
    "\n",
    "    results_dict = {'Model Name': type(model).__name__,\n",
    "                       'MAE Mean': np.round(np.mean(mae_list), 4),\n",
    "                       'MAPE Mean': np.round(np.mean(mape_list), 4),\n",
    "                       'RMSE Mean': np.round(np.mean(rmse_list), 4)}\n",
    "    return results_dict"
   ]
  },
  {
   "cell_type": "code",
   "execution_count": null,
   "id": "9f42f9e9",
   "metadata": {},
   "outputs": [],
   "source": []
  },
  {
   "cell_type": "code",
   "execution_count": null,
   "id": "b989fdbe",
   "metadata": {},
   "outputs": [],
   "source": []
  },
  {
   "cell_type": "code",
   "execution_count": null,
   "id": "549f8c5d",
   "metadata": {},
   "outputs": [],
   "source": []
  },
  {
   "cell_type": "code",
   "execution_count": null,
   "id": "6c70c85a",
   "metadata": {},
   "outputs": [],
   "source": []
  },
  {
   "cell_type": "code",
   "execution_count": 19,
   "id": "694f605f",
   "metadata": {
    "ExecuteTime": {
     "end_time": "2023-07-18T14:58:46.925113Z",
     "start_time": "2023-07-18T14:58:46.769078Z"
    }
   },
   "outputs": [],
   "source": [
    "# Load cars_test\n",
    "cars_test = pd.read_csv('data/cars_test.csv', encoding='utf-16', delimiter='\\t')\n",
    "\n",
    "# Preprocess data\n",
    "df1_test = preprocess_data(cars_test)\n",
    "\n",
    "# Feature engineering\n",
    "df_test_pre = feature_engineering(df1_test)"
   ]
  },
  {
   "cell_type": "code",
   "execution_count": 14,
   "id": "a095ec07",
   "metadata": {
    "ExecuteTime": {
     "end_time": "2023-07-18T14:47:56.855417Z",
     "start_time": "2023-07-18T14:47:56.835413Z"
    }
   },
   "outputs": [
    {
     "data": {
      "text/plain": [
       "2017.801662948692"
      ]
     },
     "execution_count": 14,
     "metadata": {},
     "output_type": "execute_result"
    }
   ],
   "source": [
    "mean_ano_modelo = df_test_pre['ano_modelo'].mean()\n",
    "mean_ano_modelo"
   ]
  },
  {
   "cell_type": "code",
   "execution_count": 6,
   "id": "b264d8f9",
   "metadata": {
    "ExecuteTime": {
     "end_time": "2023-07-18T11:09:59.873756Z",
     "start_time": "2023-07-18T11:09:59.842509Z"
    }
   },
   "outputs": [
    {
     "data": {
      "text/html": [
       "<div>\n",
       "<style scoped>\n",
       "    .dataframe tbody tr th:only-of-type {\n",
       "        vertical-align: middle;\n",
       "    }\n",
       "\n",
       "    .dataframe tbody tr th {\n",
       "        vertical-align: top;\n",
       "    }\n",
       "\n",
       "    .dataframe thead th {\n",
       "        text-align: right;\n",
       "    }\n",
       "</style>\n",
       "<table border=\"1\" class=\"dataframe\">\n",
       "  <thead>\n",
       "    <tr style=\"text-align: right;\">\n",
       "      <th></th>\n",
       "      <th>id</th>\n",
       "      <th>num_fotos</th>\n",
       "      <th>marca</th>\n",
       "      <th>modelo</th>\n",
       "      <th>versao</th>\n",
       "      <th>ano_de_fabricacao</th>\n",
       "      <th>ano_modelo</th>\n",
       "      <th>hodometro</th>\n",
       "      <th>cambio</th>\n",
       "      <th>num_portas</th>\n",
       "      <th>...</th>\n",
       "      <th>anunciante</th>\n",
       "      <th>entrega_delivery</th>\n",
       "      <th>troca</th>\n",
       "      <th>dono_aceita_troca</th>\n",
       "      <th>veiculo_unico_dono</th>\n",
       "      <th>revisoes_concessionaria</th>\n",
       "      <th>ipva_pago</th>\n",
       "      <th>veiculo_licenciado</th>\n",
       "      <th>garantia_de_fabrica</th>\n",
       "      <th>revisoes_dentro_agenda</th>\n",
       "    </tr>\n",
       "  </thead>\n",
       "  <tbody>\n",
       "    <tr>\n",
       "      <th>0</th>\n",
       "      <td>13518783164498355150900635905895481162</td>\n",
       "      <td>8</td>\n",
       "      <td>NISSAN</td>\n",
       "      <td>VERSA</td>\n",
       "      <td>1.6 16V FLEXSTART V-DRIVE MANUAL</td>\n",
       "      <td>2021</td>\n",
       "      <td>2021</td>\n",
       "      <td>20258.0</td>\n",
       "      <td>Manual</td>\n",
       "      <td>4</td>\n",
       "      <td>...</td>\n",
       "      <td>Pessoa Física</td>\n",
       "      <td>0</td>\n",
       "      <td>0</td>\n",
       "      <td>1</td>\n",
       "      <td>0</td>\n",
       "      <td>0</td>\n",
       "      <td>1</td>\n",
       "      <td>1</td>\n",
       "      <td>1</td>\n",
       "      <td>0</td>\n",
       "    </tr>\n",
       "    <tr>\n",
       "      <th>1</th>\n",
       "      <td>299896161723793383246777788797566040330</td>\n",
       "      <td>18</td>\n",
       "      <td>FIAT</td>\n",
       "      <td>STRADA</td>\n",
       "      <td>1.4 MPI WORKING CS 8V FLEX 2P MANUAL</td>\n",
       "      <td>2021</td>\n",
       "      <td>2021</td>\n",
       "      <td>53045.0</td>\n",
       "      <td>Manual</td>\n",
       "      <td>2</td>\n",
       "      <td>...</td>\n",
       "      <td>Loja</td>\n",
       "      <td>0</td>\n",
       "      <td>0</td>\n",
       "      <td>1</td>\n",
       "      <td>1</td>\n",
       "      <td>0</td>\n",
       "      <td>1</td>\n",
       "      <td>1</td>\n",
       "      <td>0</td>\n",
       "      <td>0</td>\n",
       "    </tr>\n",
       "    <tr>\n",
       "      <th>2</th>\n",
       "      <td>316180649972302128246133616457018378621</td>\n",
       "      <td>8</td>\n",
       "      <td>AUDI</td>\n",
       "      <td>Q5</td>\n",
       "      <td>2.0 TFSI GASOLINA BLACK S TRONIC</td>\n",
       "      <td>2018</td>\n",
       "      <td>2019</td>\n",
       "      <td>32486.0</td>\n",
       "      <td>Automática</td>\n",
       "      <td>4</td>\n",
       "      <td>...</td>\n",
       "      <td>Pessoa Física</td>\n",
       "      <td>0</td>\n",
       "      <td>0</td>\n",
       "      <td>1</td>\n",
       "      <td>0</td>\n",
       "      <td>0</td>\n",
       "      <td>1</td>\n",
       "      <td>0</td>\n",
       "      <td>0</td>\n",
       "      <td>0</td>\n",
       "    </tr>\n",
       "  </tbody>\n",
       "</table>\n",
       "<p>3 rows × 26 columns</p>\n",
       "</div>"
      ],
      "text/plain": [
       "                                        id  num_fotos   marca  modelo  \\\n",
       "0   13518783164498355150900635905895481162          8  NISSAN   VERSA   \n",
       "1  299896161723793383246777788797566040330         18    FIAT  STRADA   \n",
       "2  316180649972302128246133616457018378621          8    AUDI      Q5   \n",
       "\n",
       "                                 versao  ano_de_fabricacao  ano_modelo  \\\n",
       "0      1.6 16V FLEXSTART V-DRIVE MANUAL               2021        2021   \n",
       "1  1.4 MPI WORKING CS 8V FLEX 2P MANUAL               2021        2021   \n",
       "2      2.0 TFSI GASOLINA BLACK S TRONIC               2018        2019   \n",
       "\n",
       "   hodometro      cambio  num_portas  ...     anunciante  entrega_delivery  \\\n",
       "0    20258.0      Manual           4  ...  Pessoa Física                 0   \n",
       "1    53045.0      Manual           2  ...           Loja                 0   \n",
       "2    32486.0  Automática           4  ...  Pessoa Física                 0   \n",
       "\n",
       "  troca dono_aceita_troca veiculo_unico_dono revisoes_concessionaria  \\\n",
       "0     0                 1                  0                       0   \n",
       "1     0                 1                  1                       0   \n",
       "2     0                 1                  0                       0   \n",
       "\n",
       "  ipva_pago  veiculo_licenciado  garantia_de_fabrica  revisoes_dentro_agenda  \n",
       "0         1                   1                    1                       0  \n",
       "1         1                   1                    0                       0  \n",
       "2         1                   0                    0                       0  \n",
       "\n",
       "[3 rows x 26 columns]"
      ]
     },
     "execution_count": 6,
     "metadata": {},
     "output_type": "execute_result"
    }
   ],
   "source": [
    "df_test_pre.head(3)"
   ]
  },
  {
   "cell_type": "code",
   "execution_count": 115,
   "id": "7cae0ae8",
   "metadata": {
    "ExecuteTime": {
     "end_time": "2023-07-18T14:08:24.424288Z",
     "start_time": "2023-07-18T14:08:24.412297Z"
    }
   },
   "outputs": [
    {
     "data": {
      "text/plain": [
       "array(['Manual', 'Automática', 'CVT', 'Automatizada',\n",
       "       'Automática Sequencial', 'Automatizada DCT', 'Semi-automática'],\n",
       "      dtype=object)"
      ]
     },
     "execution_count": 115,
     "metadata": {},
     "output_type": "execute_result"
    }
   ],
   "source": [
    "df_test_pre.cambio.unique()"
   ]
  },
  {
   "cell_type": "code",
   "execution_count": null,
   "id": "2a74617d",
   "metadata": {},
   "outputs": [],
   "source": []
  },
  {
   "cell_type": "code",
   "execution_count": 22,
   "id": "50d80bf5",
   "metadata": {
    "ExecuteTime": {
     "end_time": "2023-07-18T13:02:58.869028Z",
     "start_time": "2023-07-18T13:02:58.857043Z"
    }
   },
   "outputs": [
    {
     "data": {
      "text/plain": [
       "(9862, 26)"
      ]
     },
     "execution_count": 22,
     "metadata": {},
     "output_type": "execute_result"
    }
   ],
   "source": [
    "df_test_pre.shape"
   ]
  },
  {
   "cell_type": "code",
   "execution_count": 20,
   "id": "16c3a9ef",
   "metadata": {
    "ExecuteTime": {
     "end_time": "2023-07-18T14:58:51.497943Z",
     "start_time": "2023-07-18T14:58:51.063739Z"
    }
   },
   "outputs": [],
   "source": [
    "# Load cars_train\n",
    "cars_train_raw = pd.read_csv('data/cars_train.csv', encoding='utf-16', delimiter='\\t')\n",
    "\n",
    "# Preprocess data\n",
    "df1 = preprocess_data(cars_train_raw)\n",
    "\n",
    "# Feature engineering\n",
    "df_train_pre = feature_engineering(df1)"
   ]
  },
  {
   "cell_type": "code",
   "execution_count": 24,
   "id": "a00d9d73",
   "metadata": {
    "ExecuteTime": {
     "end_time": "2023-07-18T13:03:02.341418Z",
     "start_time": "2023-07-18T13:03:02.329414Z"
    }
   },
   "outputs": [
    {
     "data": {
      "text/plain": [
       "(29584, 27)"
      ]
     },
     "execution_count": 24,
     "metadata": {},
     "output_type": "execute_result"
    }
   ],
   "source": [
    "df_train_pre.shape"
   ]
  },
  {
   "cell_type": "code",
   "execution_count": 117,
   "id": "c7ad8ce7",
   "metadata": {
    "ExecuteTime": {
     "end_time": "2023-07-18T14:08:33.781265Z",
     "start_time": "2023-07-18T14:08:33.765260Z"
    }
   },
   "outputs": [
    {
     "data": {
      "text/plain": [
       "array(['CVT', 'Automática', 'Manual', 'Automatizada', 'Semi-automática',\n",
       "       'Automatizada DCT', 'Automática Sequencial'], dtype=object)"
      ]
     },
     "execution_count": 117,
     "metadata": {},
     "output_type": "execute_result"
    }
   ],
   "source": [
    "df_train_pre.cambio.unique()"
   ]
  },
  {
   "cell_type": "code",
   "execution_count": 12,
   "id": "32143ac6",
   "metadata": {
    "ExecuteTime": {
     "end_time": "2023-07-18T11:16:45.493782Z",
     "start_time": "2023-07-18T11:16:45.477779Z"
    }
   },
   "outputs": [
    {
     "data": {
      "text/plain": [
       "Index(['id', 'num_fotos', 'marca', 'modelo', 'versao', 'ano_de_fabricacao',\n",
       "       'ano_modelo', 'hodometro', 'cambio', 'num_portas', 'tipo', 'blindado',\n",
       "       'cor', 'tipo_vendedor', 'cidade_vendedor', 'estado_vendedor',\n",
       "       'anunciante', 'entrega_delivery', 'troca', 'dono_aceita_troca',\n",
       "       'veiculo_unico_dono', 'revisoes_concessionaria', 'ipva_pago',\n",
       "       'veiculo_licenciado', 'garantia_de_fabrica', 'revisoes_dentro_agenda',\n",
       "       'preco'],\n",
       "      dtype='object')"
      ]
     },
     "execution_count": 12,
     "metadata": {},
     "output_type": "execute_result"
    }
   ],
   "source": [
    "df_train_pre.columns"
   ]
  },
  {
   "cell_type": "markdown",
   "id": "84280ead",
   "metadata": {},
   "source": [
    "# Split Dataset cars_train into train and validation"
   ]
  },
  {
   "cell_type": "code",
   "execution_count": 21,
   "id": "0304a243",
   "metadata": {
    "ExecuteTime": {
     "end_time": "2023-07-18T14:58:53.851462Z",
     "start_time": "2023-07-18T14:58:53.815448Z"
    }
   },
   "outputs": [],
   "source": [
    "X = df_train_pre.drop( ['id', 'preco'], axis=1 )\n",
    "y = df_train_pre['preco']\n",
    "\n",
    "x_train, x_validation, y_train, y_validation = ms.train_test_split( X, y, test_size=0.20, random_state=42 )\n",
    "\n",
    "df4 = pd.concat( [x_train, y_train], axis=1 )"
   ]
  },
  {
   "cell_type": "markdown",
   "id": "28054ee0",
   "metadata": {},
   "source": [
    "# Encoding"
   ]
  },
  {
   "cell_type": "code",
   "execution_count": 22,
   "id": "b0e79807",
   "metadata": {
    "ExecuteTime": {
     "end_time": "2023-07-18T14:58:56.145680Z",
     "start_time": "2023-07-18T14:58:56.031615Z"
    }
   },
   "outputs": [],
   "source": [
    "mms_num_portas = pp.MinMaxScaler()\n",
    "le_cambio = pp.LabelEncoder()\n",
    "le_cidade_vendedor = pp.LabelEncoder()\n",
    "le_estado_vendedor = pp.LabelEncoder()\n",
    "le_anunciante = pp.LabelEncoder()\n",
    "le_ano_de_fabricacao = pp.LabelEncoder()\n",
    "le_ano_modelo = pp.LabelEncoder()\n",
    "\n",
    "# num_portas\n",
    "df4['num_portas'] = mms_num_portas.fit_transform( df4[['num_portas']].values )\n",
    "pickle.dump( mms_num_portas, open('/Users/Luan/repos/lighthouse/features/num_portas_scaler.pkl', 'wb' ) )\n",
    "\n",
    "# 'cambio' Label Encoder\n",
    "df4['cambio'] = le_cambio.fit_transform( df4['cambio'] )\n",
    "pickle.dump( le_cambio, open( '/Users/Luan/repos/lighthouse/features/cambio_scaler.pkl', 'wb' ) )\n",
    "\n",
    "# 'tipo' Ordinal Encoding\n",
    "tipo_dict = {'Hatchback':1, 'Picape':2, 'Utilitário esportivo':3, 'Sedã':4, 'Cupê':5, 'Perua/SW':6, 'Minivan':7, 'Conversível':8}\n",
    "df4['tipo'] = df4['tipo'].map( tipo_dict )\n",
    "\n",
    "# 'cor' Ordinal Encoding\n",
    "cor_dict = {'Branco': 1 , 'Preto': 2, 'Prata': 3, 'Cinza': 4, 'Verde': 5, 'Vermelho': 6, 'Dourado':7, 'Azul':8}\n",
    "df4['cor'] = df4['cor'].map( cor_dict )\n",
    "\n",
    "# 'cidade_vendedor' Label Encoder\n",
    "df_train_pre['cidade_vendedor'] = le_cidade_vendedor.fit_transform( df_train_pre['cidade_vendedor'] )\n",
    "df4['cidade_vendedor'] = le_cidade_vendedor.transform( df4['cidade_vendedor'] )\n",
    "pickle.dump( le_cidade_vendedor, open( '/Users/Luan/repos/lighthouse/features/cidade_vendedor_scaler.pkl', 'wb' ) )\n",
    "\n",
    "# 'estado_vendedor' Label Encoder\n",
    "df4['estado_vendedor'] = le_estado_vendedor.fit_transform( df4['estado_vendedor'] )\n",
    "pickle.dump( le_estado_vendedor, open( '/Users/Luan/repos/lighthouse/features/estado_vendedor_scaler.pkl', 'wb' ) )\n",
    "\n",
    "# 'anunciante' Label Encoder\n",
    "df4['anunciante'] = le_anunciante.fit_transform( df4['anunciante'] )\n",
    "pickle.dump( le_anunciante, open( '/Users/Luan/repos/lighthouse/features/anunciante_scaler.pkl', 'wb' ) )\n",
    "\n",
    "# 'tipo_vendedor' One-Hot Encoding\n",
    "df4 = pd.get_dummies( df4, prefix=['tipo_vendedor'], columns=['tipo_vendedor'] )\n",
    "\n",
    "# marca - Target Encoding\n",
    "target_encode_marca = df4.groupby( 'marca' )['preco'].mean()\n",
    "df4.loc[:, 'marca'] = df4['marca'].map( target_encode_marca )\n",
    "pickle.dump( target_encode_marca, open( '/Users/Luan/repos/lighthouse/features/target_encode_marca_scaler.pkl', 'wb' ) )\n",
    "\n",
    "# modelo - Target Encoding\n",
    "target_encode_modelo = df4.groupby( 'modelo' )['preco'].mean()\n",
    "df4.loc[:, 'modelo'] = df4['modelo'].map( target_encode_modelo )\n",
    "pickle.dump( target_encode_modelo, open( '/Users/Luan/repos/lighthouse/features/target_encode_modelo_scaler.pkl', 'wb' ) )\n",
    "\n",
    "# versao - Target Encoding\n",
    "target_encode_versao = df4.groupby( 'versao' )['preco'].mean()\n",
    "df4.loc[:, 'versao'] = df4['versao'].map( target_encode_versao )\n",
    "pickle.dump( target_encode_versao, open( '/Users/Luan/repos/lighthouse/features/target_encode_versao_scaler.pkl', 'wb' ) )\n",
    "\n",
    "# 'ano_de_fabricacao' Label Encoder\n",
    "df_train_pre['ano_de_fabricacao'] = le_ano_de_fabricacao.fit_transform( df_train_pre['ano_de_fabricacao'] )\n",
    "df4['ano_de_fabricacao'] = le_ano_de_fabricacao.transform( df4['ano_de_fabricacao'] )\n",
    "pickle.dump( le_ano_de_fabricacao, open( '/Users/Luan/repos/lighthouse/features/ano_de_fabricacao_scaler.pkl', 'wb' ) )\n",
    "\n",
    "# 'ano_modelo' Label Encoder\n",
    "df_train_pre['ano_modelo'] = le_ano_modelo.fit_transform( df_train_pre['ano_modelo'] )\n",
    "df4['ano_modelo'] = le_ano_modelo.transform( df4['ano_modelo'] )\n",
    "pickle.dump( le_ano_modelo, open( '/Users/Luan/repos/lighthouse/features/ano_modelo_scaler.pkl', 'wb' ) )\n",
    "mean_ano_modelo = df4['ano_modelo'].mean()\n",
    "pickle.dump( mean_ano_modelo, open( '/Users/Luan/repos/lighthouse/features/mean_ano_modelo.pkl', 'wb' ) )"
   ]
  },
  {
   "cell_type": "code",
   "execution_count": 15,
   "id": "bde698e6",
   "metadata": {
    "ExecuteTime": {
     "end_time": "2023-07-18T14:49:18.864736Z",
     "start_time": "2023-07-18T14:49:18.845735Z"
    }
   },
   "outputs": [
    {
     "data": {
      "text/plain": [
       "array([11, 10,  6,  8, 15, 14,  7, 13, 12,  5,  9,  4, 16,  3,  2,  1],\n",
       "      dtype=int64)"
      ]
     },
     "execution_count": 15,
     "metadata": {},
     "output_type": "execute_result"
    }
   ],
   "source": [
    "df4.ano_modelo.unique()"
   ]
  },
  {
   "cell_type": "markdown",
   "id": "d9c015b9",
   "metadata": {},
   "source": [
    "# Response Variable Transformation"
   ]
  },
  {
   "cell_type": "markdown",
   "id": "54c57524",
   "metadata": {},
   "source": [
    "A variável resposta possui uma cauda longa à direita, por isso será aplicado transformação logarítmica"
   ]
  },
  {
   "cell_type": "code",
   "execution_count": 23,
   "id": "4c8d0088",
   "metadata": {
    "ExecuteTime": {
     "end_time": "2023-07-18T14:58:59.731833Z",
     "start_time": "2023-07-18T14:58:59.711829Z"
    }
   },
   "outputs": [],
   "source": [
    "# aplicando log a base de treino \n",
    "df4['preco'] = np.log1p( df4['preco'] )\n",
    "\n",
    "# aplicando log ao teste\n",
    "y_validation = np.log1p( y_validation )"
   ]
  },
  {
   "cell_type": "markdown",
   "id": "8e682baf",
   "metadata": {},
   "source": [
    "# Validation Preparation"
   ]
  },
  {
   "cell_type": "code",
   "execution_count": 24,
   "id": "7581d8a6",
   "metadata": {
    "ExecuteTime": {
     "end_time": "2023-07-18T14:59:01.511780Z",
     "start_time": "2023-07-18T14:59:01.471773Z"
    }
   },
   "outputs": [],
   "source": [
    "# num_portas\n",
    "x_validation['num_portas'] = mms_num_portas.transform( x_validation[['num_portas']].values )\n",
    "\n",
    "# 'cambio' Label Encoder\n",
    "x_validation['cambio'] = le_cambio.transform( x_validation['cambio'] )\n",
    "\n",
    "# 'tipo' Ordinal Encoding\n",
    "tipo_dict = {'Hatchback':1, 'Picape':2, 'Utilitário esportivo':3, 'Sedã':4, 'Cupê':5, 'Perua/SW':6, 'Minivan':7, 'Conversível':8}\n",
    "x_validation['tipo'] = x_validation['tipo'].map( tipo_dict )\n",
    "\n",
    "# 'cor' Ordinal Encoding\n",
    "cor_dict = {'Branco': 1 , 'Preto': 2, 'Prata': 3, 'Cinza': 4, 'Verde': 5, 'Vermelho': 6, 'Dourado':7, 'Azul':8}\n",
    "x_validation['cor'] = x_validation['cor'].map( cor_dict )\n",
    "\n",
    "# 'cidade_vendedor' Label Encoder\n",
    "x_validation['cidade_vendedor'] = le_cidade_vendedor.transform( x_validation['cidade_vendedor'] )\n",
    "\n",
    "\n",
    "# 'estado_vendedor' Label Encoder\n",
    "x_validation['estado_vendedor'] = le_estado_vendedor.transform( x_validation['estado_vendedor'] )\n",
    "\n",
    "# 'anunciante' Label Encoder\n",
    "x_validation['anunciante'] = le_anunciante.transform( x_validation['anunciante'] )\n",
    "\n",
    "# 'tipo_vendedor' One-Hot Encoding\n",
    "x_validation = pd.get_dummies( x_validation, prefix=['tipo_vendedor'], columns=['tipo_vendedor'] )\n",
    "\n",
    "# marca - Target Encoding\n",
    "x_validation.loc[:, 'marca'] = x_validation['marca'].map( target_encode_marca )\n",
    "\n",
    "# modelo - Target Encoding\n",
    "x_validation.loc[:, 'modelo'] = x_validation['modelo'].map( target_encode_modelo )\n",
    "\n",
    "# versao - Target Encoding\n",
    "x_validation.loc[:, 'versao'] = x_validation['versao'].map( target_encode_versao )\n",
    "\n",
    "# 'ano_de_fabricacao' Label Encoder\n",
    "x_validation['ano_de_fabricacao'] = le_ano_de_fabricacao.transform( x_validation['ano_de_fabricacao'] )\n",
    "\n",
    "# 'ano_modelo' Label Encoder\n",
    "x_validation['ano_modelo'] = le_ano_modelo.transform( x_validation['ano_modelo'] )\n",
    "\n",
    "\n",
    "x_validation = x_validation.fillna( 0 )"
   ]
  },
  {
   "cell_type": "markdown",
   "id": "bd9d18b4",
   "metadata": {},
   "source": [
    "# Feature Selection"
   ]
  },
  {
   "cell_type": "code",
   "execution_count": null,
   "id": "bb4a8f16",
   "metadata": {},
   "outputs": [],
   "source": [
    "# Criando o modelo de regressão de floresta aleatória\n",
    "rf_model = RandomForestRegressor(n_estimators=100, max_depth=5, random_state=42)\n",
    "\n",
    "# data preparation\n",
    "x_train_n = x_train.copy()\n",
    "y_train_n = y_train.values\n",
    "\n",
    "# Treinando o modelo nos dados de treinamento\n",
    "rf_model.fit( x_train_n, y_train_n )\n",
    "\n",
    "importances = rf_model.feature_importances_\n",
    "std = np.std([tree.feature_importances_ for tree in rf_model.estimators_], axis=0)\n",
    "indices = np.argsort(importances)[::-1]\n",
    "\n",
    "# Print the feature ranking\n",
    "print(\"Feature Ranking:\")\n",
    "df = pd.DataFrame()\n",
    "for i, j in zip( x_train_n, rf_model.feature_importances_ ):\n",
    "    aux = pd.DataFrame( {'feature': i, 'importance': j}, index=[0] )\n",
    "    df = pd.concat([df, aux], axis=0 )\n",
    "    \n",
    "print( df.sort_values( 'importance', ascending=False ) )"
   ]
  },
  {
   "cell_type": "code",
   "execution_count": null,
   "id": "70c972cb",
   "metadata": {},
   "outputs": [],
   "source": []
  },
  {
   "cell_type": "markdown",
   "id": "7752f2eb",
   "metadata": {},
   "source": [
    "# Machine Learning Modelling"
   ]
  },
  {
   "cell_type": "code",
   "execution_count": 25,
   "id": "2c5894e3",
   "metadata": {
    "ExecuteTime": {
     "end_time": "2023-07-18T14:59:04.399875Z",
     "start_time": "2023-07-18T14:59:04.375871Z"
    }
   },
   "outputs": [],
   "source": [
    "x_train = df4.drop(['preco'], axis=1)\n",
    "y_train = df4['preco']\n",
    "\n",
    "x_test = x_validation.copy()\n",
    "y_test = y_validation.copy()"
   ]
  },
  {
   "cell_type": "markdown",
   "id": "420adf06",
   "metadata": {},
   "source": [
    "## Linear Regression Model"
   ]
  },
  {
   "cell_type": "code",
   "execution_count": 9,
   "id": "9935eafa",
   "metadata": {
    "ExecuteTime": {
     "end_time": "2023-07-18T14:20:31.729467Z",
     "start_time": "2023-07-18T14:20:29.832427Z"
    }
   },
   "outputs": [
    {
     "ename": "ValueError",
     "evalue": "could not convert string to float: 'FORD'",
     "output_type": "error",
     "traceback": [
      "\u001b[1;31m---------------------------------------------------------------------------\u001b[0m",
      "\u001b[1;31mValueError\u001b[0m                                Traceback (most recent call last)",
      "Cell \u001b[1;32mIn[9], line 2\u001b[0m\n\u001b[0;32m      1\u001b[0m \u001b[38;5;66;03m# model\u001b[39;00m\n\u001b[1;32m----> 2\u001b[0m lr_model \u001b[38;5;241m=\u001b[39m \u001b[43mLinearRegression\u001b[49m\u001b[43m(\u001b[49m\u001b[43m)\u001b[49m\u001b[38;5;241;43m.\u001b[39;49m\u001b[43mfit\u001b[49m\u001b[43m(\u001b[49m\u001b[43m \u001b[49m\u001b[43mx_train\u001b[49m\u001b[43m,\u001b[49m\u001b[43m \u001b[49m\u001b[43my_train\u001b[49m\u001b[43m \u001b[49m\u001b[43m)\u001b[49m\n\u001b[0;32m      4\u001b[0m \u001b[38;5;66;03m# prediction\u001b[39;00m\n\u001b[0;32m      5\u001b[0m yhat_lr \u001b[38;5;241m=\u001b[39m lr_model\u001b[38;5;241m.\u001b[39mpredict( x_test )\n",
      "File \u001b[1;32m~\\anaconda3\\envs\\lighthouse\\lib\\site-packages\\sklearn\\linear_model\\_base.py:648\u001b[0m, in \u001b[0;36mLinearRegression.fit\u001b[1;34m(self, X, y, sample_weight)\u001b[0m\n\u001b[0;32m    644\u001b[0m n_jobs_ \u001b[38;5;241m=\u001b[39m \u001b[38;5;28mself\u001b[39m\u001b[38;5;241m.\u001b[39mn_jobs\n\u001b[0;32m    646\u001b[0m accept_sparse \u001b[38;5;241m=\u001b[39m \u001b[38;5;28;01mFalse\u001b[39;00m \u001b[38;5;28;01mif\u001b[39;00m \u001b[38;5;28mself\u001b[39m\u001b[38;5;241m.\u001b[39mpositive \u001b[38;5;28;01melse\u001b[39;00m [\u001b[38;5;124m\"\u001b[39m\u001b[38;5;124mcsr\u001b[39m\u001b[38;5;124m\"\u001b[39m, \u001b[38;5;124m\"\u001b[39m\u001b[38;5;124mcsc\u001b[39m\u001b[38;5;124m\"\u001b[39m, \u001b[38;5;124m\"\u001b[39m\u001b[38;5;124mcoo\u001b[39m\u001b[38;5;124m\"\u001b[39m]\n\u001b[1;32m--> 648\u001b[0m X, y \u001b[38;5;241m=\u001b[39m \u001b[38;5;28;43mself\u001b[39;49m\u001b[38;5;241;43m.\u001b[39;49m\u001b[43m_validate_data\u001b[49m\u001b[43m(\u001b[49m\n\u001b[0;32m    649\u001b[0m \u001b[43m    \u001b[49m\u001b[43mX\u001b[49m\u001b[43m,\u001b[49m\u001b[43m \u001b[49m\u001b[43my\u001b[49m\u001b[43m,\u001b[49m\u001b[43m \u001b[49m\u001b[43maccept_sparse\u001b[49m\u001b[38;5;241;43m=\u001b[39;49m\u001b[43maccept_sparse\u001b[49m\u001b[43m,\u001b[49m\u001b[43m \u001b[49m\u001b[43my_numeric\u001b[49m\u001b[38;5;241;43m=\u001b[39;49m\u001b[38;5;28;43;01mTrue\u001b[39;49;00m\u001b[43m,\u001b[49m\u001b[43m \u001b[49m\u001b[43mmulti_output\u001b[49m\u001b[38;5;241;43m=\u001b[39;49m\u001b[38;5;28;43;01mTrue\u001b[39;49;00m\n\u001b[0;32m    650\u001b[0m \u001b[43m\u001b[49m\u001b[43m)\u001b[49m\n\u001b[0;32m    652\u001b[0m sample_weight \u001b[38;5;241m=\u001b[39m _check_sample_weight(\n\u001b[0;32m    653\u001b[0m     sample_weight, X, dtype\u001b[38;5;241m=\u001b[39mX\u001b[38;5;241m.\u001b[39mdtype, only_non_negative\u001b[38;5;241m=\u001b[39m\u001b[38;5;28;01mTrue\u001b[39;00m\n\u001b[0;32m    654\u001b[0m )\n\u001b[0;32m    656\u001b[0m X, y, X_offset, y_offset, X_scale \u001b[38;5;241m=\u001b[39m _preprocess_data(\n\u001b[0;32m    657\u001b[0m     X,\n\u001b[0;32m    658\u001b[0m     y,\n\u001b[1;32m   (...)\u001b[0m\n\u001b[0;32m    661\u001b[0m     sample_weight\u001b[38;5;241m=\u001b[39msample_weight,\n\u001b[0;32m    662\u001b[0m )\n",
      "File \u001b[1;32m~\\anaconda3\\envs\\lighthouse\\lib\\site-packages\\sklearn\\base.py:584\u001b[0m, in \u001b[0;36mBaseEstimator._validate_data\u001b[1;34m(self, X, y, reset, validate_separately, **check_params)\u001b[0m\n\u001b[0;32m    582\u001b[0m         y \u001b[38;5;241m=\u001b[39m check_array(y, input_name\u001b[38;5;241m=\u001b[39m\u001b[38;5;124m\"\u001b[39m\u001b[38;5;124my\u001b[39m\u001b[38;5;124m\"\u001b[39m, \u001b[38;5;241m*\u001b[39m\u001b[38;5;241m*\u001b[39mcheck_y_params)\n\u001b[0;32m    583\u001b[0m     \u001b[38;5;28;01melse\u001b[39;00m:\n\u001b[1;32m--> 584\u001b[0m         X, y \u001b[38;5;241m=\u001b[39m check_X_y(X, y, \u001b[38;5;241m*\u001b[39m\u001b[38;5;241m*\u001b[39mcheck_params)\n\u001b[0;32m    585\u001b[0m     out \u001b[38;5;241m=\u001b[39m X, y\n\u001b[0;32m    587\u001b[0m \u001b[38;5;28;01mif\u001b[39;00m \u001b[38;5;129;01mnot\u001b[39;00m no_val_X \u001b[38;5;129;01mand\u001b[39;00m check_params\u001b[38;5;241m.\u001b[39mget(\u001b[38;5;124m\"\u001b[39m\u001b[38;5;124mensure_2d\u001b[39m\u001b[38;5;124m\"\u001b[39m, \u001b[38;5;28;01mTrue\u001b[39;00m):\n",
      "File \u001b[1;32m~\\anaconda3\\envs\\lighthouse\\lib\\site-packages\\sklearn\\utils\\validation.py:1106\u001b[0m, in \u001b[0;36mcheck_X_y\u001b[1;34m(X, y, accept_sparse, accept_large_sparse, dtype, order, copy, force_all_finite, ensure_2d, allow_nd, multi_output, ensure_min_samples, ensure_min_features, y_numeric, estimator)\u001b[0m\n\u001b[0;32m   1101\u001b[0m         estimator_name \u001b[38;5;241m=\u001b[39m _check_estimator_name(estimator)\n\u001b[0;32m   1102\u001b[0m     \u001b[38;5;28;01mraise\u001b[39;00m \u001b[38;5;167;01mValueError\u001b[39;00m(\n\u001b[0;32m   1103\u001b[0m         \u001b[38;5;124mf\u001b[39m\u001b[38;5;124m\"\u001b[39m\u001b[38;5;132;01m{\u001b[39;00mestimator_name\u001b[38;5;132;01m}\u001b[39;00m\u001b[38;5;124m requires y to be passed, but the target y is None\u001b[39m\u001b[38;5;124m\"\u001b[39m\n\u001b[0;32m   1104\u001b[0m     )\n\u001b[1;32m-> 1106\u001b[0m X \u001b[38;5;241m=\u001b[39m \u001b[43mcheck_array\u001b[49m\u001b[43m(\u001b[49m\n\u001b[0;32m   1107\u001b[0m \u001b[43m    \u001b[49m\u001b[43mX\u001b[49m\u001b[43m,\u001b[49m\n\u001b[0;32m   1108\u001b[0m \u001b[43m    \u001b[49m\u001b[43maccept_sparse\u001b[49m\u001b[38;5;241;43m=\u001b[39;49m\u001b[43maccept_sparse\u001b[49m\u001b[43m,\u001b[49m\n\u001b[0;32m   1109\u001b[0m \u001b[43m    \u001b[49m\u001b[43maccept_large_sparse\u001b[49m\u001b[38;5;241;43m=\u001b[39;49m\u001b[43maccept_large_sparse\u001b[49m\u001b[43m,\u001b[49m\n\u001b[0;32m   1110\u001b[0m \u001b[43m    \u001b[49m\u001b[43mdtype\u001b[49m\u001b[38;5;241;43m=\u001b[39;49m\u001b[43mdtype\u001b[49m\u001b[43m,\u001b[49m\n\u001b[0;32m   1111\u001b[0m \u001b[43m    \u001b[49m\u001b[43morder\u001b[49m\u001b[38;5;241;43m=\u001b[39;49m\u001b[43morder\u001b[49m\u001b[43m,\u001b[49m\n\u001b[0;32m   1112\u001b[0m \u001b[43m    \u001b[49m\u001b[43mcopy\u001b[49m\u001b[38;5;241;43m=\u001b[39;49m\u001b[43mcopy\u001b[49m\u001b[43m,\u001b[49m\n\u001b[0;32m   1113\u001b[0m \u001b[43m    \u001b[49m\u001b[43mforce_all_finite\u001b[49m\u001b[38;5;241;43m=\u001b[39;49m\u001b[43mforce_all_finite\u001b[49m\u001b[43m,\u001b[49m\n\u001b[0;32m   1114\u001b[0m \u001b[43m    \u001b[49m\u001b[43mensure_2d\u001b[49m\u001b[38;5;241;43m=\u001b[39;49m\u001b[43mensure_2d\u001b[49m\u001b[43m,\u001b[49m\n\u001b[0;32m   1115\u001b[0m \u001b[43m    \u001b[49m\u001b[43mallow_nd\u001b[49m\u001b[38;5;241;43m=\u001b[39;49m\u001b[43mallow_nd\u001b[49m\u001b[43m,\u001b[49m\n\u001b[0;32m   1116\u001b[0m \u001b[43m    \u001b[49m\u001b[43mensure_min_samples\u001b[49m\u001b[38;5;241;43m=\u001b[39;49m\u001b[43mensure_min_samples\u001b[49m\u001b[43m,\u001b[49m\n\u001b[0;32m   1117\u001b[0m \u001b[43m    \u001b[49m\u001b[43mensure_min_features\u001b[49m\u001b[38;5;241;43m=\u001b[39;49m\u001b[43mensure_min_features\u001b[49m\u001b[43m,\u001b[49m\n\u001b[0;32m   1118\u001b[0m \u001b[43m    \u001b[49m\u001b[43mestimator\u001b[49m\u001b[38;5;241;43m=\u001b[39;49m\u001b[43mestimator\u001b[49m\u001b[43m,\u001b[49m\n\u001b[0;32m   1119\u001b[0m \u001b[43m    \u001b[49m\u001b[43minput_name\u001b[49m\u001b[38;5;241;43m=\u001b[39;49m\u001b[38;5;124;43m\"\u001b[39;49m\u001b[38;5;124;43mX\u001b[39;49m\u001b[38;5;124;43m\"\u001b[39;49m\u001b[43m,\u001b[49m\n\u001b[0;32m   1120\u001b[0m \u001b[43m\u001b[49m\u001b[43m)\u001b[49m\n\u001b[0;32m   1122\u001b[0m y \u001b[38;5;241m=\u001b[39m _check_y(y, multi_output\u001b[38;5;241m=\u001b[39mmulti_output, y_numeric\u001b[38;5;241m=\u001b[39my_numeric, estimator\u001b[38;5;241m=\u001b[39mestimator)\n\u001b[0;32m   1124\u001b[0m check_consistent_length(X, y)\n",
      "File \u001b[1;32m~\\anaconda3\\envs\\lighthouse\\lib\\site-packages\\sklearn\\utils\\validation.py:879\u001b[0m, in \u001b[0;36mcheck_array\u001b[1;34m(array, accept_sparse, accept_large_sparse, dtype, order, copy, force_all_finite, ensure_2d, allow_nd, ensure_min_samples, ensure_min_features, estimator, input_name)\u001b[0m\n\u001b[0;32m    877\u001b[0m         array \u001b[38;5;241m=\u001b[39m xp\u001b[38;5;241m.\u001b[39mastype(array, dtype, copy\u001b[38;5;241m=\u001b[39m\u001b[38;5;28;01mFalse\u001b[39;00m)\n\u001b[0;32m    878\u001b[0m     \u001b[38;5;28;01melse\u001b[39;00m:\n\u001b[1;32m--> 879\u001b[0m         array \u001b[38;5;241m=\u001b[39m \u001b[43m_asarray_with_order\u001b[49m\u001b[43m(\u001b[49m\u001b[43marray\u001b[49m\u001b[43m,\u001b[49m\u001b[43m \u001b[49m\u001b[43morder\u001b[49m\u001b[38;5;241;43m=\u001b[39;49m\u001b[43morder\u001b[49m\u001b[43m,\u001b[49m\u001b[43m \u001b[49m\u001b[43mdtype\u001b[49m\u001b[38;5;241;43m=\u001b[39;49m\u001b[43mdtype\u001b[49m\u001b[43m,\u001b[49m\u001b[43m \u001b[49m\u001b[43mxp\u001b[49m\u001b[38;5;241;43m=\u001b[39;49m\u001b[43mxp\u001b[49m\u001b[43m)\u001b[49m\n\u001b[0;32m    880\u001b[0m \u001b[38;5;28;01mexcept\u001b[39;00m ComplexWarning \u001b[38;5;28;01mas\u001b[39;00m complex_warning:\n\u001b[0;32m    881\u001b[0m     \u001b[38;5;28;01mraise\u001b[39;00m \u001b[38;5;167;01mValueError\u001b[39;00m(\n\u001b[0;32m    882\u001b[0m         \u001b[38;5;124m\"\u001b[39m\u001b[38;5;124mComplex data not supported\u001b[39m\u001b[38;5;130;01m\\n\u001b[39;00m\u001b[38;5;132;01m{}\u001b[39;00m\u001b[38;5;130;01m\\n\u001b[39;00m\u001b[38;5;124m\"\u001b[39m\u001b[38;5;241m.\u001b[39mformat(array)\n\u001b[0;32m    883\u001b[0m     ) \u001b[38;5;28;01mfrom\u001b[39;00m \u001b[38;5;21;01mcomplex_warning\u001b[39;00m\n",
      "File \u001b[1;32m~\\anaconda3\\envs\\lighthouse\\lib\\site-packages\\sklearn\\utils\\_array_api.py:185\u001b[0m, in \u001b[0;36m_asarray_with_order\u001b[1;34m(array, dtype, order, copy, xp)\u001b[0m\n\u001b[0;32m    182\u001b[0m     xp, _ \u001b[38;5;241m=\u001b[39m get_namespace(array)\n\u001b[0;32m    183\u001b[0m \u001b[38;5;28;01mif\u001b[39;00m xp\u001b[38;5;241m.\u001b[39m\u001b[38;5;18m__name__\u001b[39m \u001b[38;5;129;01min\u001b[39;00m {\u001b[38;5;124m\"\u001b[39m\u001b[38;5;124mnumpy\u001b[39m\u001b[38;5;124m\"\u001b[39m, \u001b[38;5;124m\"\u001b[39m\u001b[38;5;124mnumpy.array_api\u001b[39m\u001b[38;5;124m\"\u001b[39m}:\n\u001b[0;32m    184\u001b[0m     \u001b[38;5;66;03m# Use NumPy API to support order\u001b[39;00m\n\u001b[1;32m--> 185\u001b[0m     array \u001b[38;5;241m=\u001b[39m \u001b[43mnumpy\u001b[49m\u001b[38;5;241;43m.\u001b[39;49m\u001b[43masarray\u001b[49m\u001b[43m(\u001b[49m\u001b[43marray\u001b[49m\u001b[43m,\u001b[49m\u001b[43m \u001b[49m\u001b[43morder\u001b[49m\u001b[38;5;241;43m=\u001b[39;49m\u001b[43morder\u001b[49m\u001b[43m,\u001b[49m\u001b[43m \u001b[49m\u001b[43mdtype\u001b[49m\u001b[38;5;241;43m=\u001b[39;49m\u001b[43mdtype\u001b[49m\u001b[43m)\u001b[49m\n\u001b[0;32m    186\u001b[0m     \u001b[38;5;28;01mreturn\u001b[39;00m xp\u001b[38;5;241m.\u001b[39masarray(array, copy\u001b[38;5;241m=\u001b[39mcopy)\n\u001b[0;32m    187\u001b[0m \u001b[38;5;28;01melse\u001b[39;00m:\n",
      "File \u001b[1;32m~\\anaconda3\\envs\\lighthouse\\lib\\site-packages\\pandas\\core\\generic.py:2070\u001b[0m, in \u001b[0;36mNDFrame.__array__\u001b[1;34m(self, dtype)\u001b[0m\n\u001b[0;32m   2069\u001b[0m \u001b[38;5;28;01mdef\u001b[39;00m \u001b[38;5;21m__array__\u001b[39m(\u001b[38;5;28mself\u001b[39m, dtype: npt\u001b[38;5;241m.\u001b[39mDTypeLike \u001b[38;5;241m|\u001b[39m \u001b[38;5;28;01mNone\u001b[39;00m \u001b[38;5;241m=\u001b[39m \u001b[38;5;28;01mNone\u001b[39;00m) \u001b[38;5;241m-\u001b[39m\u001b[38;5;241m>\u001b[39m np\u001b[38;5;241m.\u001b[39mndarray:\n\u001b[1;32m-> 2070\u001b[0m     \u001b[38;5;28;01mreturn\u001b[39;00m \u001b[43mnp\u001b[49m\u001b[38;5;241;43m.\u001b[39;49m\u001b[43masarray\u001b[49m\u001b[43m(\u001b[49m\u001b[38;5;28;43mself\u001b[39;49m\u001b[38;5;241;43m.\u001b[39;49m\u001b[43m_values\u001b[49m\u001b[43m,\u001b[49m\u001b[43m \u001b[49m\u001b[43mdtype\u001b[49m\u001b[38;5;241;43m=\u001b[39;49m\u001b[43mdtype\u001b[49m\u001b[43m)\u001b[49m\n",
      "\u001b[1;31mValueError\u001b[0m: could not convert string to float: 'FORD'"
     ]
    }
   ],
   "source": [
    "# model\n",
    "lr_model = LinearRegression().fit( x_train, y_train )\n",
    "\n",
    "# prediction\n",
    "yhat_lr = lr_model.predict( x_test )\n",
    "\n",
    "# performance\n",
    "lr_result = ml_error( 'Linear Regression', np.expm1( y_test ), np.expm1( yhat_lr ) )\n",
    "lr_result"
   ]
  },
  {
   "cell_type": "markdown",
   "id": "08a04036",
   "metadata": {},
   "source": [
    "## Random Forest Regressor"
   ]
  },
  {
   "cell_type": "code",
   "execution_count": 70,
   "id": "7ac83cf0",
   "metadata": {
    "ExecuteTime": {
     "end_time": "2023-07-18T13:33:42.300712Z",
     "start_time": "2023-07-18T13:33:36.955933Z"
    }
   },
   "outputs": [
    {
     "data": {
      "text/html": [
       "<div>\n",
       "<style scoped>\n",
       "    .dataframe tbody tr th:only-of-type {\n",
       "        vertical-align: middle;\n",
       "    }\n",
       "\n",
       "    .dataframe tbody tr th {\n",
       "        vertical-align: top;\n",
       "    }\n",
       "\n",
       "    .dataframe thead th {\n",
       "        text-align: right;\n",
       "    }\n",
       "</style>\n",
       "<table border=\"1\" class=\"dataframe\">\n",
       "  <thead>\n",
       "    <tr style=\"text-align: right;\">\n",
       "      <th></th>\n",
       "      <th>Model Name</th>\n",
       "      <th>MAE</th>\n",
       "      <th>MAPE</th>\n",
       "      <th>RMSE</th>\n",
       "    </tr>\n",
       "  </thead>\n",
       "  <tbody>\n",
       "    <tr>\n",
       "      <th>0</th>\n",
       "      <td>Random Forest Regressor</td>\n",
       "      <td>27350.255069</td>\n",
       "      <td>0.219277</td>\n",
       "      <td>45640.499592</td>\n",
       "    </tr>\n",
       "  </tbody>\n",
       "</table>\n",
       "</div>"
      ],
      "text/plain": [
       "                Model Name           MAE      MAPE          RMSE\n",
       "0  Random Forest Regressor  27350.255069  0.219277  45640.499592"
      ]
     },
     "execution_count": 70,
     "metadata": {},
     "output_type": "execute_result"
    }
   ],
   "source": [
    "# model\n",
    "rf_model = RandomForestRegressor(n_estimators=100, n_jobs=-1, random_state=42 ).fit( x_train, y_train )\n",
    "\n",
    "# prediction\n",
    "yhat_rf = rf_model.predict( x_test )\n",
    "\n",
    "# performance\n",
    "rf_result = ml_error( 'Random Forest Regressor', np.expm1( y_test ), np.expm1( yhat_rf ) )\n",
    "rf_result"
   ]
  },
  {
   "cell_type": "markdown",
   "id": "ef843c7b",
   "metadata": {},
   "source": [
    "## XGBoost Regressor"
   ]
  },
  {
   "cell_type": "code",
   "execution_count": 71,
   "id": "0c679433",
   "metadata": {
    "ExecuteTime": {
     "end_time": "2023-07-18T13:33:47.023592Z",
     "start_time": "2023-07-18T13:33:44.045630Z"
    }
   },
   "outputs": [
    {
     "data": {
      "text/html": [
       "<div>\n",
       "<style scoped>\n",
       "    .dataframe tbody tr th:only-of-type {\n",
       "        vertical-align: middle;\n",
       "    }\n",
       "\n",
       "    .dataframe tbody tr th {\n",
       "        vertical-align: top;\n",
       "    }\n",
       "\n",
       "    .dataframe thead th {\n",
       "        text-align: right;\n",
       "    }\n",
       "</style>\n",
       "<table border=\"1\" class=\"dataframe\">\n",
       "  <thead>\n",
       "    <tr style=\"text-align: right;\">\n",
       "      <th></th>\n",
       "      <th>Model Name</th>\n",
       "      <th>MAE</th>\n",
       "      <th>MAPE</th>\n",
       "      <th>RMSE</th>\n",
       "    </tr>\n",
       "  </thead>\n",
       "  <tbody>\n",
       "    <tr>\n",
       "      <th>0</th>\n",
       "      <td>XGBoost Regressor</td>\n",
       "      <td>27180.376719</td>\n",
       "      <td>0.217619</td>\n",
       "      <td>45116.739434</td>\n",
       "    </tr>\n",
       "  </tbody>\n",
       "</table>\n",
       "</div>"
      ],
      "text/plain": [
       "          Model Name           MAE      MAPE          RMSE\n",
       "0  XGBoost Regressor  27180.376719  0.217619  45116.739434"
      ]
     },
     "execution_count": 71,
     "metadata": {},
     "output_type": "execute_result"
    }
   ],
   "source": [
    "# model\n",
    "xgb_model = xgb.XGBRegressor().fit( x_train, y_train )\n",
    "\n",
    "# prediction\n",
    "yhat_xgb = xgb_model.predict( x_test )\n",
    "\n",
    "# performance\n",
    "xgb_result = ml_error( 'XGBoost Regressor', np.expm1( y_test ), np.expm1( yhat_xgb ) )\n",
    "xgb_result"
   ]
  },
  {
   "cell_type": "markdown",
   "id": "d15782eb",
   "metadata": {},
   "source": [
    "## LGBM Regressor"
   ]
  },
  {
   "cell_type": "code",
   "execution_count": 72,
   "id": "2b887791",
   "metadata": {
    "ExecuteTime": {
     "end_time": "2023-07-18T13:33:48.993282Z",
     "start_time": "2023-07-18T13:33:48.645198Z"
    }
   },
   "outputs": [
    {
     "data": {
      "text/html": [
       "<div>\n",
       "<style scoped>\n",
       "    .dataframe tbody tr th:only-of-type {\n",
       "        vertical-align: middle;\n",
       "    }\n",
       "\n",
       "    .dataframe tbody tr th {\n",
       "        vertical-align: top;\n",
       "    }\n",
       "\n",
       "    .dataframe thead th {\n",
       "        text-align: right;\n",
       "    }\n",
       "</style>\n",
       "<table border=\"1\" class=\"dataframe\">\n",
       "  <thead>\n",
       "    <tr style=\"text-align: right;\">\n",
       "      <th></th>\n",
       "      <th>Model Name</th>\n",
       "      <th>MAE</th>\n",
       "      <th>MAPE</th>\n",
       "      <th>RMSE</th>\n",
       "    </tr>\n",
       "  </thead>\n",
       "  <tbody>\n",
       "    <tr>\n",
       "      <th>0</th>\n",
       "      <td>LGBM Regressor</td>\n",
       "      <td>26928.02552</td>\n",
       "      <td>0.215214</td>\n",
       "      <td>44566.094111</td>\n",
       "    </tr>\n",
       "  </tbody>\n",
       "</table>\n",
       "</div>"
      ],
      "text/plain": [
       "       Model Name          MAE      MAPE          RMSE\n",
       "0  LGBM Regressor  26928.02552  0.215214  44566.094111"
      ]
     },
     "execution_count": 72,
     "metadata": {},
     "output_type": "execute_result"
    }
   ],
   "source": [
    "# model\n",
    "lgbm_model = lgbm.LGBMRegressor().fit( x_train, y_train )\n",
    "\n",
    "# prediction\n",
    "yhat_lgbm = lgbm_model.predict( x_test )\n",
    "\n",
    "# performance\n",
    "lgbm_result = ml_error( 'LGBM Regressor', np.expm1( y_test ), np.expm1( yhat_lgbm ) )\n",
    "lgbm_result"
   ]
  },
  {
   "cell_type": "markdown",
   "id": "5f5db54b",
   "metadata": {},
   "source": [
    "## CatBoost Regressor"
   ]
  },
  {
   "cell_type": "code",
   "execution_count": 123,
   "id": "40ed35e6",
   "metadata": {
    "ExecuteTime": {
     "end_time": "2023-07-18T14:09:42.225331Z",
     "start_time": "2023-07-18T14:09:37.141643Z"
    }
   },
   "outputs": [
    {
     "data": {
      "text/html": [
       "<div>\n",
       "<style scoped>\n",
       "    .dataframe tbody tr th:only-of-type {\n",
       "        vertical-align: middle;\n",
       "    }\n",
       "\n",
       "    .dataframe tbody tr th {\n",
       "        vertical-align: top;\n",
       "    }\n",
       "\n",
       "    .dataframe thead th {\n",
       "        text-align: right;\n",
       "    }\n",
       "</style>\n",
       "<table border=\"1\" class=\"dataframe\">\n",
       "  <thead>\n",
       "    <tr style=\"text-align: right;\">\n",
       "      <th></th>\n",
       "      <th>Model Name</th>\n",
       "      <th>MAE</th>\n",
       "      <th>MAPE</th>\n",
       "      <th>RMSE</th>\n",
       "    </tr>\n",
       "  </thead>\n",
       "  <tbody>\n",
       "    <tr>\n",
       "      <th>0</th>\n",
       "      <td>CatBoost Regressor</td>\n",
       "      <td>26366.406052</td>\n",
       "      <td>0.210202</td>\n",
       "      <td>43392.122279</td>\n",
       "    </tr>\n",
       "  </tbody>\n",
       "</table>\n",
       "</div>"
      ],
      "text/plain": [
       "           Model Name           MAE      MAPE          RMSE\n",
       "0  CatBoost Regressor  26366.406052  0.210202  43392.122279"
      ]
     },
     "execution_count": 123,
     "metadata": {},
     "output_type": "execute_result"
    }
   ],
   "source": [
    "# model\n",
    "catb_model = catb.CatBoostRegressor(verbose=False).fit( x_train, y_train )\n",
    "\n",
    "# prediction\n",
    "yhat_catb = catb_model.predict( x_test )\n",
    "\n",
    "# performance\n",
    "catb_result = ml_error( 'CatBoost Regressor', np.expm1( y_test ), np.expm1( yhat_catb ) )\n",
    "catb_result"
   ]
  },
  {
   "cell_type": "markdown",
   "id": "bea27fbd",
   "metadata": {},
   "source": [
    "## Cross Validation"
   ]
  },
  {
   "cell_type": "code",
   "execution_count": 74,
   "id": "375b8da9",
   "metadata": {
    "ExecuteTime": {
     "end_time": "2023-07-18T13:35:03.046907Z",
     "start_time": "2023-07-18T13:34:04.903701Z"
    }
   },
   "outputs": [
    {
     "data": {
      "text/html": [
       "<div>\n",
       "<style scoped>\n",
       "    .dataframe tbody tr th:only-of-type {\n",
       "        vertical-align: middle;\n",
       "    }\n",
       "\n",
       "    .dataframe tbody tr th {\n",
       "        vertical-align: top;\n",
       "    }\n",
       "\n",
       "    .dataframe thead th {\n",
       "        text-align: right;\n",
       "    }\n",
       "</style>\n",
       "<table border=\"1\" class=\"dataframe\">\n",
       "  <thead>\n",
       "    <tr style=\"text-align: right;\">\n",
       "      <th></th>\n",
       "      <th>Model Name</th>\n",
       "      <th>MAE Mean</th>\n",
       "      <th>MAPE Mean</th>\n",
       "      <th>RMSE Mean</th>\n",
       "    </tr>\n",
       "  </thead>\n",
       "  <tbody>\n",
       "    <tr>\n",
       "      <th>0</th>\n",
       "      <td>LinearRegression</td>\n",
       "      <td>33873.7485</td>\n",
       "      <td>0.2378</td>\n",
       "      <td>268643.7100</td>\n",
       "    </tr>\n",
       "    <tr>\n",
       "      <th>1</th>\n",
       "      <td>RandomForestRegressor</td>\n",
       "      <td>24600.2803</td>\n",
       "      <td>0.1945</td>\n",
       "      <td>40052.9735</td>\n",
       "    </tr>\n",
       "    <tr>\n",
       "      <th>2</th>\n",
       "      <td>XGBRegressor</td>\n",
       "      <td>24622.1625</td>\n",
       "      <td>0.1946</td>\n",
       "      <td>40288.7580</td>\n",
       "    </tr>\n",
       "    <tr>\n",
       "      <th>3</th>\n",
       "      <td>LGBMRegressor</td>\n",
       "      <td>24191.1182</td>\n",
       "      <td>0.1919</td>\n",
       "      <td>39286.5704</td>\n",
       "    </tr>\n",
       "    <tr>\n",
       "      <th>4</th>\n",
       "      <td>CatBoostRegressor</td>\n",
       "      <td>24012.8915</td>\n",
       "      <td>0.1903</td>\n",
       "      <td>39136.3274</td>\n",
       "    </tr>\n",
       "  </tbody>\n",
       "</table>\n",
       "</div>"
      ],
      "text/plain": [
       "              Model Name    MAE Mean  MAPE Mean    RMSE Mean\n",
       "0       LinearRegression  33873.7485     0.2378  268643.7100\n",
       "1  RandomForestRegressor  24600.2803     0.1945   40052.9735\n",
       "2           XGBRegressor  24622.1625     0.1946   40288.7580\n",
       "3          LGBMRegressor  24191.1182     0.1919   39286.5704\n",
       "4      CatBoostRegressor  24012.8915     0.1903   39136.3274"
      ]
     },
     "execution_count": 74,
     "metadata": {},
     "output_type": "execute_result"
    }
   ],
   "source": [
    "models_list = [lr_model, rf_model, xgb_model, lgbm_model, catb_model]\n",
    "results_list = []\n",
    "\n",
    "for model in models_list:\n",
    "    results_model = cross_validation_regression( model, x_train, y_train, 5, verbose=False )\n",
    "    \n",
    "    results_list.append(results_model)\n",
    "    \n",
    "results_cv = pd.DataFrame(results_list)\n",
    "    \n",
    "results_cv"
   ]
  },
  {
   "cell_type": "markdown",
   "id": "3a5f4d2d",
   "metadata": {},
   "source": [
    "# Hyperparameter Fine Tuning"
   ]
  },
  {
   "cell_type": "code",
   "execution_count": 16,
   "id": "94d03df9",
   "metadata": {
    "ExecuteTime": {
     "end_time": "2023-07-18T11:41:58.231610Z",
     "start_time": "2023-07-18T11:41:58.223610Z"
    }
   },
   "outputs": [],
   "source": [
    "## Crie o modelo de regressor CatBoost\n",
    "#catboost_model = catb.CatBoostRegressor(iterations=100, random_state=42, verbose=0)\n",
    "#\n",
    "## Defina a grade de hiperparâmetros para a busca aleatória\n",
    "#param_dist = {\n",
    "#    'learning_rate': expon(loc=0.01, scale=0.2),\n",
    "#    'depth': randint(3, 16),\n",
    "#    'l2_leaf_reg': expon(loc=1, scale=10),\n",
    "#    'bagging_temperature': expon(loc=0, scale=1),\n",
    "#    'random_strength': expon(loc=0, scale=1),\n",
    "#    'one_hot_max_size': randint(2, 10),\n",
    "#}\n",
    "#\n",
    "## Realize a busca aleatória com o RandomizedSearchCV\n",
    "#random_search = ms.RandomizedSearchCV(catboost_model, param_distributions=param_dist, n_iter=50, cv=5, scoring='neg_mean_squared_error', random_state=42, verbose=False)\n",
    "#random_search.fit(x_train, y_train)\n",
    "#\n",
    "## Exiba os melhores hiperparâmetros encontrados e o desempenho do modelo\n",
    "#print(\"Melhores hiperparâmetros:\")\n",
    "#print(random_search.best_params_)\n",
    "#print(\"Melhor MSE:\", -random_search.best_score_)"
   ]
  },
  {
   "cell_type": "code",
   "execution_count": 36,
   "id": "9d5daedf",
   "metadata": {
    "ExecuteTime": {
     "end_time": "2023-07-18T13:05:46.811116Z",
     "start_time": "2023-07-18T13:05:46.804116Z"
    }
   },
   "outputs": [],
   "source": [
    "best_param = {'bagging_temperature': 1.9713449718798333, 'depth': 9, 'l2_leaf_reg': 2.799114871179353, 'learning_rate': 0.16275231006818694, 'one_hot_max_size': 7, 'random_strength': 0.2511673382758245}"
   ]
  },
  {
   "cell_type": "code",
   "execution_count": 26,
   "id": "9e42c93a",
   "metadata": {
    "ExecuteTime": {
     "end_time": "2023-07-18T14:59:27.917008Z",
     "start_time": "2023-07-18T14:59:14.512277Z"
    }
   },
   "outputs": [
    {
     "data": {
      "text/html": [
       "<div>\n",
       "<style scoped>\n",
       "    .dataframe tbody tr th:only-of-type {\n",
       "        vertical-align: middle;\n",
       "    }\n",
       "\n",
       "    .dataframe tbody tr th {\n",
       "        vertical-align: top;\n",
       "    }\n",
       "\n",
       "    .dataframe thead th {\n",
       "        text-align: right;\n",
       "    }\n",
       "</style>\n",
       "<table border=\"1\" class=\"dataframe\">\n",
       "  <thead>\n",
       "    <tr style=\"text-align: right;\">\n",
       "      <th></th>\n",
       "      <th>Model Name</th>\n",
       "      <th>MAE</th>\n",
       "      <th>MAPE</th>\n",
       "      <th>RMSE</th>\n",
       "    </tr>\n",
       "  </thead>\n",
       "  <tbody>\n",
       "    <tr>\n",
       "      <th>0</th>\n",
       "      <td>CatBoost Regressor</td>\n",
       "      <td>26607.963801</td>\n",
       "      <td>0.212053</td>\n",
       "      <td>43115.383203</td>\n",
       "    </tr>\n",
       "  </tbody>\n",
       "</table>\n",
       "</div>"
      ],
      "text/plain": [
       "           Model Name           MAE      MAPE          RMSE\n",
       "0  CatBoost Regressor  26607.963801  0.212053  43115.383203"
      ]
     },
     "execution_count": 26,
     "metadata": {},
     "output_type": "execute_result"
    }
   ],
   "source": [
    "# model\n",
    "catb_model_tunned = catb.CatBoostRegressor( bagging_temperature= 1.9713449718798333, \n",
    "                                            depth= 9, \n",
    "                                            l2_leaf_reg= 2.799114871179353, \n",
    "                                            learning_rate= 0.16275231006818694, \n",
    "                                            one_hot_max_size= 7, \n",
    "                                            random_strength= 0.2511673382758245, verbose=False).fit( x_train, y_train )\n",
    "\n",
    "# prediction\n",
    "yhat_catb_tunned = catb_model_tunned.predict( x_test )\n",
    "\n",
    "# performance\n",
    "catb_result_tunned = ml_error( 'CatBoost Regressor', np.expm1( y_test ), np.expm1( yhat_catb_tunned ) )\n",
    "catb_result_tunned"
   ]
  },
  {
   "cell_type": "code",
   "execution_count": 27,
   "id": "7161a6b4",
   "metadata": {
    "ExecuteTime": {
     "end_time": "2023-07-18T14:59:31.248682Z",
     "start_time": "2023-07-18T14:59:31.217693Z"
    }
   },
   "outputs": [],
   "source": [
    "# Save trained model\n",
    "pickle.dump( catb_model_tunned, open('/Users/Luan/repos/lighthouse/models/catb_model_tunned.pkl', 'wb' ))"
   ]
  },
  {
   "cell_type": "code",
   "execution_count": 77,
   "id": "f711f2b0",
   "metadata": {
    "ExecuteTime": {
     "end_time": "2023-07-18T13:36:50.027822Z",
     "start_time": "2023-07-18T13:35:46.279676Z"
    }
   },
   "outputs": [
    {
     "data": {
      "text/plain": [
       "{'Model Name': 'CatBoostRegressor',\n",
       " 'MAE Mean': 24662.2179,\n",
       " 'MAPE Mean': 0.195,\n",
       " 'RMSE Mean': 40151.6354}"
      ]
     },
     "execution_count": 77,
     "metadata": {},
     "output_type": "execute_result"
    }
   ],
   "source": [
    "cross_validation_regression(catb_model_tunned, x_train, y_train, 5, verbose=False)"
   ]
  },
  {
   "cell_type": "code",
   "execution_count": null,
   "id": "238098eb",
   "metadata": {},
   "outputs": [],
   "source": []
  },
  {
   "cell_type": "code",
   "execution_count": null,
   "id": "e7efd4f7",
   "metadata": {},
   "outputs": [],
   "source": [
    "import pickle\n",
    "import numpy as np\n",
    "import pandas as pd\n",
    "\n",
    "class Transformation( object ):\n",
    "    def __init__( self ):\n",
    "        self.home_path = '/Users/Luan/repos/lighthouse/'\n",
    "        self.mms_num_portas = pickle.load( open( self.home_path + 'features/num_portas_scaler.pkl', 'rb'))\n",
    "        self.le_cambio = pickle.load( open( self.home_path + 'features/cambio_scaler.pkl', 'rb'))\n",
    "        self.le_tipo = pickle.load( open( self.home_path + 'features/tipo_scaler.pkl', 'rb'))\n",
    "        self.le_cor = pickle.load( open( self.home_path + 'features/cor_scaler.pkl', 'rb'))\n",
    "        self.le_cidade_vendedor = pickle.load( open( self.home_path + 'features/cidade_vendedor_scaler.pkl', 'rb'))\n",
    "        self.le_estado_vendedor = pickle.load( open( self.home_path + 'features/estado_vendedor_scaler.pkl', 'rb'))\n",
    "        self.le_anunciante = pickle.load( open( self.home_path + 'features/anunciante_scaler.pkl', 'rb'))\n",
    "        self.le_ano_de_fabricacao = pickle.load( open( self.home_path + 'features/ano_de_fabricacao_scaler.pkl', 'rb'))\n",
    "        self.le_ano_modelo = pickle.load( open( self.home_path + 'features/ano_modelo_scaler.pkl', 'rb'))\n",
    "        self.target_encode_marca = pickle.load( open( self.home_path + 'features/target_encode_marca_scaler.pkl','rb'))\n",
    "        self.target_encode_modelo = pickle.load( open( self.home_path + 'features/target_encode_modelo_scaler.pkl', 'rb'))\n",
    "        self.target_encode_versao = pickle.load( open( self.home_path + 'features/target_encode_versao_scaler.pkl', 'rb'))\n",
    "        \n",
    "    def data_transform( self, df_pre ):\n",
    "        # num_portas\n",
    "        df_pre['num_portas'] = self.mms_num_portas.transform( df_pre[['num_portas']].values )\n",
    "\n",
    "        # 'cambio' Label Encoder\n",
    "        df_pre['cambio'] = self.le_cambio.transform( df_pre['cambio'] )\n",
    "\n",
    "        # 'tipo' Label Encoder\n",
    "        df_pre['tipo'] = self.le_tipo.transform( df_pre['tipo'] )\n",
    "\n",
    "        # 'cor' Label Encoder\n",
    "        df_pre['cor'] = self.le_cor.transform( df_pre['cor'] )\n",
    "\n",
    "        # 'cidade_vendedor' Label Encoder\n",
    "        df_pre['cidade_vendedor'] = self.le_cidade_vendedor.transform( df_pre['cidade_vendedor'] )\n",
    "\n",
    "\n",
    "        # 'estado_vendedor' Label Encoder\n",
    "        df_pre['estado_vendedor'] = self.le_estado_vendedor.transform( df_pre['estado_vendedor'] )\n",
    "\n",
    "        # 'anunciante' Label Encoder\n",
    "        df_pre['anunciante'] = self.le_anunciante.transform( df_pre['anunciante'] )\n",
    "\n",
    "        # 'tipo_vendedor' One-Hot Encoding\n",
    "        df_pre = pd.get_dummies( df_pre, prefix=['tipo_vendedor'], columns=['tipo_vendedor'] )\n",
    "\n",
    "        # marca - Target Encoding\n",
    "        df_pre.loc[:, 'marca'] = df_pre['marca'].map( self.target_encode_marca )\n",
    "\n",
    "        # modelo - Target Encoding\n",
    "        df_pre.loc[:, 'modelo'] = df_pre['modelo'].map( self.target_encode_modelo )\n",
    "\n",
    "        # versao - Target Encoding\n",
    "        df_pre.loc[:, 'versao'] = df_pre['versao'].map( self.target_encode_versao )\n",
    "\n",
    "        # 'ano_de_fabricacao' Label Encoder\n",
    "        df_pre['ano_de_fabricacao'] = self.le_ano_de_fabricacao.transform( df_pre['ano_de_fabricacao'] )\n",
    "\n",
    "        # 'ano_modelo' Label Encoder\n",
    "        df_pre['ano_modelo'] = self.le_ano_modelo.transform( df_pre['ano_modelo'] )\n",
    "\n",
    "\n",
    "        df_pre = df_pre.fillna( 0 )\n",
    "        \n",
    "        return df_pre"
   ]
  },
  {
   "cell_type": "code",
   "execution_count": 97,
   "id": "55c25689",
   "metadata": {
    "ExecuteTime": {
     "end_time": "2023-07-18T13:54:02.171180Z",
     "start_time": "2023-07-18T13:54:02.159177Z"
    }
   },
   "outputs": [
    {
     "data": {
      "text/plain": [
       "array(['Hatchback', 'Picape', 'Utilitário esportivo', 'Sedã', 'Cupê',\n",
       "       'Perua/SW', 'Minivan', 'Conversível'], dtype=object)"
      ]
     },
     "execution_count": 97,
     "metadata": {},
     "output_type": "execute_result"
    }
   ],
   "source": [
    "df_test_pre.tipo.unique()"
   ]
  },
  {
   "cell_type": "code",
   "execution_count": 28,
   "id": "da4da46b",
   "metadata": {
    "ExecuteTime": {
     "end_time": "2023-07-18T14:59:41.473672Z",
     "start_time": "2023-07-18T14:59:36.914079Z"
    }
   },
   "outputs": [
    {
     "ename": "ValueError",
     "evalue": "y contains previously unseen labels: [2007, 2009]",
     "output_type": "error",
     "traceback": [
      "\u001b[1;31m---------------------------------------------------------------------------\u001b[0m",
      "\u001b[1;31mValueError\u001b[0m                                Traceback (most recent call last)",
      "Cell \u001b[1;32mIn[28], line 2\u001b[0m\n\u001b[0;32m      1\u001b[0m transformer \u001b[38;5;241m=\u001b[39m Transformation()\n\u001b[1;32m----> 2\u001b[0m df_test_transformed \u001b[38;5;241m=\u001b[39m \u001b[43mtransformer\u001b[49m\u001b[38;5;241;43m.\u001b[39;49m\u001b[43mdata_transform\u001b[49m\u001b[43m(\u001b[49m\u001b[43mdf_test_pre\u001b[49m\u001b[43m)\u001b[49m\n",
      "File \u001b[1;32m~\\repos\\lighthouse\\transformation.py:66\u001b[0m, in \u001b[0;36mTransformation.data_transform\u001b[1;34m(self, df_pre)\u001b[0m\n\u001b[0;32m     63\u001b[0m df_pre[\u001b[38;5;124m'\u001b[39m\u001b[38;5;124mano_de_fabricacao\u001b[39m\u001b[38;5;124m'\u001b[39m] \u001b[38;5;241m=\u001b[39m \u001b[38;5;28mself\u001b[39m\u001b[38;5;241m.\u001b[39mle_ano_de_fabricacao\u001b[38;5;241m.\u001b[39mtransform( df_pre[\u001b[38;5;124m'\u001b[39m\u001b[38;5;124mano_de_fabricacao\u001b[39m\u001b[38;5;124m'\u001b[39m] )\n\u001b[0;32m     65\u001b[0m \u001b[38;5;66;03m# 'ano_modelo' Label Encoder\u001b[39;00m\n\u001b[1;32m---> 66\u001b[0m df_pre[\u001b[38;5;124m'\u001b[39m\u001b[38;5;124mano_modelo\u001b[39m\u001b[38;5;124m'\u001b[39m] \u001b[38;5;241m=\u001b[39m \u001b[38;5;28;43mself\u001b[39;49m\u001b[38;5;241;43m.\u001b[39;49m\u001b[43mle_ano_modelo\u001b[49m\u001b[38;5;241;43m.\u001b[39;49m\u001b[43mtransform\u001b[49m\u001b[43m(\u001b[49m\u001b[43m \u001b[49m\u001b[43mdf_pre\u001b[49m\u001b[43m[\u001b[49m\u001b[38;5;124;43m'\u001b[39;49m\u001b[38;5;124;43mano_modelo\u001b[39;49m\u001b[38;5;124;43m'\u001b[39;49m\u001b[43m]\u001b[49m\u001b[43m \u001b[49m\u001b[43m)\u001b[49m\n\u001b[0;32m     69\u001b[0m df_pre \u001b[38;5;241m=\u001b[39m df_pre\u001b[38;5;241m.\u001b[39mfillna( \u001b[38;5;241m0\u001b[39m )\n\u001b[0;32m     71\u001b[0m \u001b[38;5;28;01mreturn\u001b[39;00m df_pre\n",
      "File \u001b[1;32m~\\anaconda3\\envs\\lighthouse\\lib\\site-packages\\sklearn\\utils\\_set_output.py:140\u001b[0m, in \u001b[0;36m_wrap_method_output.<locals>.wrapped\u001b[1;34m(self, X, *args, **kwargs)\u001b[0m\n\u001b[0;32m    138\u001b[0m \u001b[38;5;129m@wraps\u001b[39m(f)\n\u001b[0;32m    139\u001b[0m \u001b[38;5;28;01mdef\u001b[39;00m \u001b[38;5;21mwrapped\u001b[39m(\u001b[38;5;28mself\u001b[39m, X, \u001b[38;5;241m*\u001b[39margs, \u001b[38;5;241m*\u001b[39m\u001b[38;5;241m*\u001b[39mkwargs):\n\u001b[1;32m--> 140\u001b[0m     data_to_wrap \u001b[38;5;241m=\u001b[39m f(\u001b[38;5;28mself\u001b[39m, X, \u001b[38;5;241m*\u001b[39margs, \u001b[38;5;241m*\u001b[39m\u001b[38;5;241m*\u001b[39mkwargs)\n\u001b[0;32m    141\u001b[0m     \u001b[38;5;28;01mif\u001b[39;00m \u001b[38;5;28misinstance\u001b[39m(data_to_wrap, \u001b[38;5;28mtuple\u001b[39m):\n\u001b[0;32m    142\u001b[0m         \u001b[38;5;66;03m# only wrap the first output for cross decomposition\u001b[39;00m\n\u001b[0;32m    143\u001b[0m         \u001b[38;5;28;01mreturn\u001b[39;00m (\n\u001b[0;32m    144\u001b[0m             _wrap_data_with_container(method, data_to_wrap[\u001b[38;5;241m0\u001b[39m], X, \u001b[38;5;28mself\u001b[39m),\n\u001b[0;32m    145\u001b[0m             \u001b[38;5;241m*\u001b[39mdata_to_wrap[\u001b[38;5;241m1\u001b[39m:],\n\u001b[0;32m    146\u001b[0m         )\n",
      "File \u001b[1;32m~\\anaconda3\\envs\\lighthouse\\lib\\site-packages\\sklearn\\preprocessing\\_label.py:139\u001b[0m, in \u001b[0;36mLabelEncoder.transform\u001b[1;34m(self, y)\u001b[0m\n\u001b[0;32m    136\u001b[0m \u001b[38;5;28;01mif\u001b[39;00m _num_samples(y) \u001b[38;5;241m==\u001b[39m \u001b[38;5;241m0\u001b[39m:\n\u001b[0;32m    137\u001b[0m     \u001b[38;5;28;01mreturn\u001b[39;00m np\u001b[38;5;241m.\u001b[39marray([])\n\u001b[1;32m--> 139\u001b[0m \u001b[38;5;28;01mreturn\u001b[39;00m \u001b[43m_encode\u001b[49m\u001b[43m(\u001b[49m\u001b[43my\u001b[49m\u001b[43m,\u001b[49m\u001b[43m \u001b[49m\u001b[43muniques\u001b[49m\u001b[38;5;241;43m=\u001b[39;49m\u001b[38;5;28;43mself\u001b[39;49m\u001b[38;5;241;43m.\u001b[39;49m\u001b[43mclasses_\u001b[49m\u001b[43m)\u001b[49m\n",
      "File \u001b[1;32m~\\anaconda3\\envs\\lighthouse\\lib\\site-packages\\sklearn\\utils\\_encode.py:231\u001b[0m, in \u001b[0;36m_encode\u001b[1;34m(values, uniques, check_unknown)\u001b[0m\n\u001b[0;32m    229\u001b[0m     diff \u001b[38;5;241m=\u001b[39m _check_unknown(values, uniques)\n\u001b[0;32m    230\u001b[0m     \u001b[38;5;28;01mif\u001b[39;00m diff:\n\u001b[1;32m--> 231\u001b[0m         \u001b[38;5;28;01mraise\u001b[39;00m \u001b[38;5;167;01mValueError\u001b[39;00m(\u001b[38;5;124mf\u001b[39m\u001b[38;5;124m\"\u001b[39m\u001b[38;5;124my contains previously unseen labels: \u001b[39m\u001b[38;5;132;01m{\u001b[39;00m\u001b[38;5;28mstr\u001b[39m(diff)\u001b[38;5;132;01m}\u001b[39;00m\u001b[38;5;124m\"\u001b[39m)\n\u001b[0;32m    232\u001b[0m \u001b[38;5;28;01mreturn\u001b[39;00m np\u001b[38;5;241m.\u001b[39msearchsorted(uniques, values)\n",
      "\u001b[1;31mValueError\u001b[0m: y contains previously unseen labels: [2007, 2009]"
     ]
    }
   ],
   "source": [
    "transformer = Transformation()\n",
    "df_test_transformed = transformer.data_transform(df_test_pre)\n"
   ]
  },
  {
   "cell_type": "code",
   "execution_count": null,
   "id": "6e60acdb",
   "metadata": {},
   "outputs": [],
   "source": [
    "test = df_test_transformed.drop('id', axis=1)"
   ]
  },
  {
   "cell_type": "markdown",
   "id": "a22dd65f",
   "metadata": {},
   "source": [
    "# Predict"
   ]
  },
  {
   "cell_type": "code",
   "execution_count": null,
   "id": "740865b6",
   "metadata": {},
   "outputs": [],
   "source": [
    "prediction = pd.DataFrame(catb_model_tunned.predict(test))"
   ]
  },
  {
   "cell_type": "code",
   "execution_count": null,
   "id": "7ab081fa",
   "metadata": {},
   "outputs": [],
   "source": [
    "cars_test['preco'] = prediction\n",
    "prediction.head()"
   ]
  },
  {
   "cell_type": "code",
   "execution_count": null,
   "id": "6791b155",
   "metadata": {},
   "outputs": [],
   "source": [
    "prediction.to_csv('data/credicted.csv', index=False)"
   ]
  },
  {
   "cell_type": "code",
   "execution_count": null,
   "id": "38f9f9bf",
   "metadata": {},
   "outputs": [],
   "source": []
  },
  {
   "cell_type": "code",
   "execution_count": null,
   "id": "d9c54e75",
   "metadata": {},
   "outputs": [],
   "source": []
  },
  {
   "cell_type": "code",
   "execution_count": null,
   "id": "8c3ab2d9",
   "metadata": {},
   "outputs": [],
   "source": []
  },
  {
   "cell_type": "code",
   "execution_count": null,
   "id": "40aed1d6",
   "metadata": {},
   "outputs": [],
   "source": []
  }
 ],
 "metadata": {
  "kernelspec": {
   "display_name": "Python 3 (ipykernel)",
   "language": "python",
   "name": "python3"
  },
  "language_info": {
   "codemirror_mode": {
    "name": "ipython",
    "version": 3
   },
   "file_extension": ".py",
   "mimetype": "text/x-python",
   "name": "python",
   "nbconvert_exporter": "python",
   "pygments_lexer": "ipython3",
   "version": "3.9.17"
  },
  "varInspector": {
   "cols": {
    "lenName": 16,
    "lenType": 16,
    "lenVar": 40
   },
   "kernels_config": {
    "python": {
     "delete_cmd_postfix": "",
     "delete_cmd_prefix": "del ",
     "library": "var_list.py",
     "varRefreshCmd": "print(var_dic_list())"
    },
    "r": {
     "delete_cmd_postfix": ") ",
     "delete_cmd_prefix": "rm(",
     "library": "var_list.r",
     "varRefreshCmd": "cat(var_dic_list()) "
    }
   },
   "types_to_exclude": [
    "module",
    "function",
    "builtin_function_or_method",
    "instance",
    "_Feature"
   ],
   "window_display": false
  }
 },
 "nbformat": 4,
 "nbformat_minor": 5
}
