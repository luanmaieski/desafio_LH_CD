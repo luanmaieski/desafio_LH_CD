{
 "cells": [
  {
   "cell_type": "markdown",
   "id": "6b66f9a9",
   "metadata": {},
   "source": [
    "# =================== Desafio Lighthouse =========================="
   ]
  },
  {
   "cell_type": "markdown",
   "id": "c18908d4",
   "metadata": {},
   "source": [
    "O problema que estamos resolvendo é de **REGRESSÃO.**\n",
    "Para fazer a previsão fiz os seguintes passos:\n",
    "\n",
    "* Criei uma função para fazer as limpezas inicias, renomeando colunas, tratando dados faltantes e feature engineering. A função esta em data_preprocessing.py\n",
    "    \n",
    "* Carreguei os datasets de treino e teste e apliquei a função data_preprocessing.\n",
    "    \n",
    "* Fiz o split dos dados de teinamento, para depois fazer o treinamento e avaliação dos modelos.\n",
    "    \n",
    "* Apliquei os encodings deixando todos no tipo numérico. Fiz as transformações separadamente no conjunto train e validation.\n",
    "    \n",
    "* Treinei um modelo para achar as features mais importantes e ver se tirando as menos importantes melhoraria o resultado do modelo, porém não melhorou entao mantive todas as features.\n",
    "    \n",
    "* Fiz o treinamento de 5 modelos: Linear Regression, Random Forest, XGBoost, LGBM e CatBoost. Todos com os parametros padrão, sendo que o que teve a melhor performance foi o CatBoost\n",
    "    \n",
    "* A métrica para escolher qual o melhor modelo foi o MAPE, que é a porcentagem da diferença entre as previsões e os valores reais.\n",
    "    \n",
    "* Treinei todos os modelos com Cross Validation para ter mais confiança da performance dos modelos, tendo o CatBoost um erro MAPE de 0.1903, ou seja, ele erra em média 19% as previsões.\n",
    "    \n",
    "* Fiz a etapa de Hyperparameter Fine Tuning para achar os melhores parametros e treinei o modelo escolhido com esses parametros.\n",
    "    \n",
    "* Criei e aplique nos dataset cars_test uma função que fez os encodings para poder fazer a previsão final.\n",
    "    \n",
    "* Por fim usei o modelo treinado para fazer a previsão de preço no dataset cars_test e salvei o arquivo final predicted.csv\n",
    "    "
   ]
  },
  {
   "cell_type": "code",
   "execution_count": 1,
   "id": "9ddcd8c6",
   "metadata": {
    "ExecuteTime": {
     "end_time": "2023-07-18T15:05:20.192086Z",
     "start_time": "2023-07-18T15:05:18.085358Z"
    }
   },
   "outputs": [],
   "source": [
    "import pandas as pd\n",
    "import numpy as np\n",
    "import seaborn as sns\n",
    "import unicodedata\n",
    "import math\n",
    "import pickle\n",
    "from IPython.core.display  import HTML\n",
    "from matplotlib import pyplot as plt\n",
    "from sklearn                 import model_selection as ms\n",
    "from sklearn                 import preprocessing as pp\n",
    "from sklearn.linear_model  import LinearRegression, Lasso\n",
    "from sklearn.ensemble      import RandomForestRegressor\n",
    "from sklearn.metrics       import mean_absolute_error, mean_absolute_percentage_error, mean_squared_error\n",
    "from sklearn.model_selection import cross_val_score, KFold\n",
    "import xgboost as xgb\n",
    "import lightgbm as lgbm\n",
    "import catboost as catb\n",
    "from scipy.stats import expon, randint\n",
    "\n",
    "import warnings\n",
    "warnings.filterwarnings( 'ignore' )\n",
    "from data_preprocessing import preprocess_data, feature_engineering, main\n",
    "from transformation import Transformation\n"
   ]
  },
  {
   "cell_type": "markdown",
   "id": "06168352",
   "metadata": {},
   "source": [
    "# Helper Functions"
   ]
  },
  {
   "cell_type": "code",
   "execution_count": 10,
   "id": "736b41cb",
   "metadata": {
    "ExecuteTime": {
     "end_time": "2023-07-18T15:06:17.841376Z",
     "start_time": "2023-07-18T15:06:17.800372Z"
    }
   },
   "outputs": [
    {
     "name": "stdout",
     "output_type": "stream",
     "text": [
      "%pylab is deprecated, use %matplotlib inline and import the required libraries.\n",
      "Populating the interactive namespace from numpy and matplotlib\n"
     ]
    },
    {
     "data": {
      "text/html": [
       "<style>.container {width:90% !important; }</style>"
      ],
      "text/plain": [
       "<IPython.core.display.HTML object>"
      ]
     },
     "metadata": {},
     "output_type": "display_data"
    }
   ],
   "source": [
    "def jupyter_settings():\n",
    "    %matplotlib inline\n",
    "    %pylab inline\n",
    "    plt.rcParams['figure.figsize'] = [25, 15]\n",
    "    plt.rcParams['font.size'] = 24\n",
    "    \n",
    "    display( HTML( '<style>.container {width:90% !important; }</style>') )\n",
    "    pd.options.display.max_columns = None\n",
    "    pd.options.display.max_rows = None\n",
    "    pd.set_option( 'display.expand_frame_repr', False )\n",
    "    sns.set_theme(style=\"darkgrid\", palette='hls')\n",
    "    # sns.color_palette(\"crest\", as_cmap=True)\n",
    "    # sns.color_palette(\"magma\", as_cmap=True)\n",
    "    # sns.color_palette(\"flare\", as_cmap=True)\n",
    "    # Increase chart size for better readability\n",
    "    #sns.set(rc={'figure.figsize':(11,6)})\n",
    "\n",
    "jupyter_settings()\n",
    "\n",
    "def mean_percentage_error( y, yhat ):\n",
    "    return np.mean( ( y - yhat ) / y )\n",
    "\n",
    "def ml_error( model_name, y, yhat ):\n",
    "    mae = mean_absolute_error( y, yhat )\n",
    "    mape = mean_absolute_percentage_error( y, yhat )\n",
    "    rmse = np.sqrt( mean_squared_error( y, yhat ) )\n",
    "\n",
    "    return pd.DataFrame( { 'Model Name': [model_name],\n",
    "                           'MAE': [mae],\n",
    "                           'MAPE': [mape],\n",
    "                           'RMSE': [rmse]} )\n",
    "\n",
    "def cross_validation_regression(model, x_train, y_train, k, verbose=True):\n",
    "    kf = KFold(n_splits=k, shuffle=True, random_state=42)\n",
    "    mae_list = []\n",
    "    mape_list = []\n",
    "    rmse_list = []\n",
    "    i = 1    \n",
    "    for train_cv, val_cv in kf.split(x_train, y_train):\n",
    "        if verbose:\n",
    "            print(f'Fold Number {i}/{k}') \n",
    "        else:\n",
    "            pass\n",
    "\n",
    "        x_train_fold = x_train.iloc[train_cv]\n",
    "        y_train_fold = y_train.iloc[train_cv]\n",
    "\n",
    "        x_val_fold = x_train.iloc[val_cv]\n",
    "        y_val_fold = y_train.iloc[val_cv]\n",
    "\n",
    "        # fit model\n",
    "        model.fit(x_train_fold, y_train_fold)\n",
    "\n",
    "        # predict\n",
    "        yhat_model = model.predict(x_val_fold)\n",
    "\n",
    "        #performance\n",
    "        m_result = ml_error( model, np.expm1( y_val_fold ), np.expm1( yhat_model ) )\n",
    "        \n",
    "        # Calculate regression metrics for the fold\n",
    "        mae_list.append( m_result[ 'MAE' ] )\n",
    "        mape_list.append( m_result[ 'MAPE' ] )\n",
    "        rmse_list.append( m_result[ 'RMSE' ] )\n",
    "       \n",
    "        i += 1\n",
    "\n",
    "    results_dict = {'Model Name': type(model).__name__,\n",
    "                       'MAE Mean': np.round(np.mean(mae_list), 4),\n",
    "                       'MAPE Mean': np.round(np.mean(mape_list), 4),\n",
    "                       'RMSE Mean': np.round(np.mean(rmse_list), 4)}\n",
    "    return results_dict"
   ]
  },
  {
   "cell_type": "markdown",
   "id": "24272d2a",
   "metadata": {
    "heading_collapsed": true
   },
   "source": [
    "# Load data"
   ]
  },
  {
   "cell_type": "code",
   "execution_count": 11,
   "id": "19f43bc9",
   "metadata": {
    "ExecuteTime": {
     "end_time": "2023-07-18T15:06:40.222916Z",
     "start_time": "2023-07-18T15:06:40.068905Z"
    },
    "hidden": true
   },
   "outputs": [],
   "source": [
    "# Load cars_test\n",
    "cars_test = pd.read_csv('data/cars_test.csv', encoding='utf-16', delimiter='\\t')\n",
    "\n",
    "# Preprocess data\n",
    "df1_test = preprocess_data(cars_test)\n",
    "\n",
    "# Feature engineering\n",
    "df_test_pre = feature_engineering(df1_test)"
   ]
  },
  {
   "cell_type": "code",
   "execution_count": 12,
   "id": "b637bc0f",
   "metadata": {
    "ExecuteTime": {
     "end_time": "2023-07-18T15:06:43.318280Z",
     "start_time": "2023-07-18T15:06:42.884246Z"
    },
    "hidden": true
   },
   "outputs": [],
   "source": [
    "# Load cars_train\n",
    "cars_train_raw = pd.read_csv('data/cars_train.csv', encoding='utf-16', delimiter='\\t')\n",
    "\n",
    "# Preprocess data\n",
    "df1 = preprocess_data(cars_train_raw)\n",
    "\n",
    "# Feature engineering\n",
    "df_train_pre = feature_engineering(df1)"
   ]
  },
  {
   "cell_type": "markdown",
   "id": "b5e29bc0",
   "metadata": {
    "heading_collapsed": true
   },
   "source": [
    "# Split Dataset cars_train into train and validation"
   ]
  },
  {
   "cell_type": "code",
   "execution_count": 13,
   "id": "859fde23",
   "metadata": {
    "ExecuteTime": {
     "end_time": "2023-07-18T15:06:45.633086Z",
     "start_time": "2023-07-18T15:06:45.586606Z"
    },
    "hidden": true
   },
   "outputs": [],
   "source": [
    "X = df_train_pre.drop( ['id', 'preco'], axis=1 )\n",
    "y = df_train_pre['preco']\n",
    "\n",
    "x_train, x_validation, y_train, y_validation = ms.train_test_split( X, y, test_size=0.20, random_state=42 )\n",
    "\n",
    "df4 = pd.concat( [x_train, y_train], axis=1 )"
   ]
  },
  {
   "cell_type": "markdown",
   "id": "a3280d81",
   "metadata": {
    "heading_collapsed": true
   },
   "source": [
    "# Encoding"
   ]
  },
  {
   "cell_type": "code",
   "execution_count": 14,
   "id": "a3ef4641",
   "metadata": {
    "ExecuteTime": {
     "end_time": "2023-07-18T15:06:48.470355Z",
     "start_time": "2023-07-18T15:06:48.346326Z"
    },
    "hidden": true
   },
   "outputs": [],
   "source": [
    "mms_num_portas = pp.MinMaxScaler()\n",
    "le_cambio = pp.LabelEncoder()\n",
    "le_cidade_vendedor = pp.LabelEncoder()\n",
    "le_estado_vendedor = pp.LabelEncoder()\n",
    "le_anunciante = pp.LabelEncoder()\n",
    "le_ano_de_fabricacao = pp.LabelEncoder()\n",
    "le_ano_modelo = pp.LabelEncoder()\n",
    "\n",
    "# num_portas\n",
    "df4['num_portas'] = mms_num_portas.fit_transform( df4[['num_portas']].values )\n",
    "pickle.dump( mms_num_portas, open('/Users/Luan/repos/lighthouse/features/num_portas_scaler.pkl', 'wb' ) )\n",
    "\n",
    "# 'cambio' Label Encoder\n",
    "df4['cambio'] = le_cambio.fit_transform( df4['cambio'] )\n",
    "pickle.dump( le_cambio, open( '/Users/Luan/repos/lighthouse/features/cambio_scaler.pkl', 'wb' ) )\n",
    "\n",
    "# 'tipo' Ordinal Encoding\n",
    "tipo_dict = {'Hatchback':1, 'Picape':2, 'Utilitário esportivo':3, 'Sedã':4, 'Cupê':5, 'Perua/SW':6, 'Minivan':7, 'Conversível':8}\n",
    "df4['tipo'] = df4['tipo'].map( tipo_dict )\n",
    "\n",
    "# 'cor' Ordinal Encoding\n",
    "cor_dict = {'Branco': 1 , 'Preto': 2, 'Prata': 3, 'Cinza': 4, 'Verde': 5, 'Vermelho': 6, 'Dourado':7, 'Azul':8}\n",
    "df4['cor'] = df4['cor'].map( cor_dict )\n",
    "\n",
    "# 'cidade_vendedor' Label Encoder\n",
    "df_train_pre['cidade_vendedor'] = le_cidade_vendedor.fit_transform( df_train_pre['cidade_vendedor'] )\n",
    "df4['cidade_vendedor'] = le_cidade_vendedor.transform( df4['cidade_vendedor'] )\n",
    "pickle.dump( le_cidade_vendedor, open( '/Users/Luan/repos/lighthouse/features/cidade_vendedor_scaler.pkl', 'wb' ) )\n",
    "\n",
    "# 'estado_vendedor' Label Encoder\n",
    "df4['estado_vendedor'] = le_estado_vendedor.fit_transform( df4['estado_vendedor'] )\n",
    "pickle.dump( le_estado_vendedor, open( '/Users/Luan/repos/lighthouse/features/estado_vendedor_scaler.pkl', 'wb' ) )\n",
    "\n",
    "# 'anunciante' Label Encoder\n",
    "df4['anunciante'] = le_anunciante.fit_transform( df4['anunciante'] )\n",
    "pickle.dump( le_anunciante, open( '/Users/Luan/repos/lighthouse/features/anunciante_scaler.pkl', 'wb' ) )\n",
    "\n",
    "# 'tipo_vendedor' One-Hot Encoding\n",
    "df4 = pd.get_dummies( df4, prefix=['tipo_vendedor'], columns=['tipo_vendedor'] )\n",
    "\n",
    "# marca - Target Encoding\n",
    "target_encode_marca = df4.groupby( 'marca' )['preco'].mean()\n",
    "df4.loc[:, 'marca'] = df4['marca'].map( target_encode_marca )\n",
    "pickle.dump( target_encode_marca, open( '/Users/Luan/repos/lighthouse/features/target_encode_marca_scaler.pkl', 'wb' ) )\n",
    "\n",
    "# modelo - Target Encoding\n",
    "target_encode_modelo = df4.groupby( 'modelo' )['preco'].mean()\n",
    "df4.loc[:, 'modelo'] = df4['modelo'].map( target_encode_modelo )\n",
    "pickle.dump( target_encode_modelo, open( '/Users/Luan/repos/lighthouse/features/target_encode_modelo_scaler.pkl', 'wb' ) )\n",
    "\n",
    "# versao - Target Encoding\n",
    "target_encode_versao = df4.groupby( 'versao' )['preco'].mean()\n",
    "df4.loc[:, 'versao'] = df4['versao'].map( target_encode_versao )\n",
    "pickle.dump( target_encode_versao, open( '/Users/Luan/repos/lighthouse/features/target_encode_versao_scaler.pkl', 'wb' ) )\n",
    "\n",
    "# 'ano_de_fabricacao' Label Encoder\n",
    "df_train_pre['ano_de_fabricacao'] = le_ano_de_fabricacao.fit_transform( df_train_pre['ano_de_fabricacao'] )\n",
    "df4['ano_de_fabricacao'] = le_ano_de_fabricacao.transform( df4['ano_de_fabricacao'] )\n",
    "pickle.dump( le_ano_de_fabricacao, open( '/Users/Luan/repos/lighthouse/features/ano_de_fabricacao_scaler.pkl', 'wb' ) )\n",
    "\n",
    "# 'ano_modelo' Label Encoder\n",
    "df_train_pre['ano_modelo'] = le_ano_modelo.fit_transform( df_train_pre['ano_modelo'] )\n",
    "df4['ano_modelo'] = le_ano_modelo.transform( df4['ano_modelo'] )\n",
    "pickle.dump( le_ano_modelo, open( '/Users/Luan/repos/lighthouse/features/ano_modelo_scaler.pkl', 'wb' ) )\n",
    "mean_ano_modelo = df4['ano_modelo'].mean()\n",
    "pickle.dump( mean_ano_modelo, open( '/Users/Luan/repos/lighthouse/features/mean_ano_modelo.pkl', 'wb' ) )"
   ]
  },
  {
   "cell_type": "code",
   "execution_count": 15,
   "id": "2178e91e",
   "metadata": {
    "ExecuteTime": {
     "end_time": "2023-07-18T14:49:18.864736Z",
     "start_time": "2023-07-18T14:49:18.845735Z"
    },
    "hidden": true
   },
   "outputs": [
    {
     "data": {
      "text/plain": [
       "array([11, 10,  6,  8, 15, 14,  7, 13, 12,  5,  9,  4, 16,  3,  2,  1],\n",
       "      dtype=int64)"
      ]
     },
     "execution_count": 15,
     "metadata": {},
     "output_type": "execute_result"
    }
   ],
   "source": [
    "df4.ano_modelo.unique()"
   ]
  },
  {
   "cell_type": "markdown",
   "id": "682f9115",
   "metadata": {
    "heading_collapsed": true
   },
   "source": [
    "# Response Variable Transformation"
   ]
  },
  {
   "cell_type": "markdown",
   "id": "8252e28b",
   "metadata": {
    "hidden": true
   },
   "source": [
    "A variável resposta possui uma cauda longa à direita, por isso será aplicado transformação logarítmica"
   ]
  },
  {
   "cell_type": "code",
   "execution_count": 15,
   "id": "7c61a0e6",
   "metadata": {
    "ExecuteTime": {
     "end_time": "2023-07-18T15:06:51.678958Z",
     "start_time": "2023-07-18T15:06:51.662954Z"
    },
    "hidden": true
   },
   "outputs": [],
   "source": [
    "# aplicando log a base de treino \n",
    "df4['preco'] = np.log1p( df4['preco'] )\n",
    "\n",
    "# aplicando log ao teste\n",
    "y_validation = np.log1p( y_validation )"
   ]
  },
  {
   "cell_type": "markdown",
   "id": "0a9a7109",
   "metadata": {
    "heading_collapsed": true
   },
   "source": [
    "# Validation Preparation"
   ]
  },
  {
   "cell_type": "code",
   "execution_count": 16,
   "id": "94060c2a",
   "metadata": {
    "ExecuteTime": {
     "end_time": "2023-07-18T15:06:54.704862Z",
     "start_time": "2023-07-18T15:06:54.668854Z"
    },
    "hidden": true
   },
   "outputs": [],
   "source": [
    "# num_portas\n",
    "x_validation['num_portas'] = mms_num_portas.transform( x_validation[['num_portas']].values )\n",
    "\n",
    "# 'cambio' Label Encoder\n",
    "x_validation['cambio'] = le_cambio.transform( x_validation['cambio'] )\n",
    "\n",
    "# 'tipo' Ordinal Encoding\n",
    "tipo_dict = {'Hatchback':1, 'Picape':2, 'Utilitário esportivo':3, 'Sedã':4, 'Cupê':5, 'Perua/SW':6, 'Minivan':7, 'Conversível':8}\n",
    "x_validation['tipo'] = x_validation['tipo'].map( tipo_dict )\n",
    "\n",
    "# 'cor' Ordinal Encoding\n",
    "cor_dict = {'Branco': 1 , 'Preto': 2, 'Prata': 3, 'Cinza': 4, 'Verde': 5, 'Vermelho': 6, 'Dourado':7, 'Azul':8}\n",
    "x_validation['cor'] = x_validation['cor'].map( cor_dict )\n",
    "\n",
    "# 'cidade_vendedor' Label Encoder\n",
    "x_validation['cidade_vendedor'] = le_cidade_vendedor.transform( x_validation['cidade_vendedor'] )\n",
    "\n",
    "\n",
    "# 'estado_vendedor' Label Encoder\n",
    "x_validation['estado_vendedor'] = le_estado_vendedor.transform( x_validation['estado_vendedor'] )\n",
    "\n",
    "# 'anunciante' Label Encoder\n",
    "x_validation['anunciante'] = le_anunciante.transform( x_validation['anunciante'] )\n",
    "\n",
    "# 'tipo_vendedor' One-Hot Encoding\n",
    "x_validation = pd.get_dummies( x_validation, prefix=['tipo_vendedor'], columns=['tipo_vendedor'] )\n",
    "\n",
    "# marca - Target Encoding\n",
    "x_validation.loc[:, 'marca'] = x_validation['marca'].map( target_encode_marca )\n",
    "\n",
    "# modelo - Target Encoding\n",
    "x_validation.loc[:, 'modelo'] = x_validation['modelo'].map( target_encode_modelo )\n",
    "\n",
    "# versao - Target Encoding\n",
    "x_validation.loc[:, 'versao'] = x_validation['versao'].map( target_encode_versao )\n",
    "\n",
    "# 'ano_de_fabricacao' Label Encoder\n",
    "x_validation['ano_de_fabricacao'] = le_ano_de_fabricacao.transform( x_validation['ano_de_fabricacao'] )\n",
    "\n",
    "# 'ano_modelo' Label Encoder\n",
    "x_validation['ano_modelo'] = le_ano_modelo.transform( x_validation['ano_modelo'] )\n",
    "\n",
    "\n",
    "x_validation = x_validation.fillna( 0 )"
   ]
  },
  {
   "cell_type": "markdown",
   "id": "2e15efd3",
   "metadata": {
    "heading_collapsed": true
   },
   "source": [
    "# Feature Selection"
   ]
  },
  {
   "cell_type": "code",
   "execution_count": 30,
   "id": "fa2c775b",
   "metadata": {
    "ExecuteTime": {
     "end_time": "2023-07-18T16:06:39.184383Z",
     "start_time": "2023-07-18T16:06:34.690694Z"
    },
    "hidden": true
   },
   "outputs": [
    {
     "name": "stdout",
     "output_type": "stream",
     "text": [
      "Feature Ranking:\n",
      "                   feature  importance\n",
      "0                   versao    0.975001\n",
      "0                hodometro    0.010383\n",
      "0                      cor    0.004461\n",
      "0                   modelo    0.003845\n",
      "0                     tipo    0.001751\n",
      "0        ano_de_fabricacao    0.001346\n",
      "0               ano_modelo    0.001022\n",
      "0       veiculo_unico_dono    0.000911\n",
      "0                    marca    0.000728\n",
      "0  revisoes_concessionaria    0.000156\n",
      "0      garantia_de_fabrica    0.000105\n",
      "0                 blindado    0.000103\n",
      "0          cidade_vendedor    0.000041\n",
      "0   revisoes_dentro_agenda    0.000038\n",
      "0                   cambio    0.000036\n",
      "0                num_fotos    0.000024\n",
      "0        dono_aceita_troca    0.000023\n",
      "0       veiculo_licenciado    0.000012\n",
      "0                ipva_pago    0.000005\n",
      "0                    troca    0.000004\n",
      "0          estado_vendedor    0.000002\n",
      "0         entrega_delivery    0.000000\n",
      "0               anunciante    0.000000\n",
      "0               num_portas    0.000000\n",
      "0         tipo_vendedor_PF    0.000000\n",
      "0         tipo_vendedor_PJ    0.000000\n"
     ]
    }
   ],
   "source": [
    "# Criando o modelo de regressão de floresta aleatória\n",
    "rf_model = RandomForestRegressor(n_estimators=100, max_depth=5, random_state=42)\n",
    "\n",
    "# data preparation\n",
    "x_train_n = x_train.copy()\n",
    "y_train_n = y_train.values\n",
    "\n",
    "# Treinando o modelo nos dados de treinamento\n",
    "rf_model.fit( x_train_n, y_train_n )\n",
    "\n",
    "importances = rf_model.feature_importances_\n",
    "std = np.std([tree.feature_importances_ for tree in rf_model.estimators_], axis=0)\n",
    "indices = np.argsort(importances)[::-1]\n",
    "\n",
    "# Print the feature ranking\n",
    "print(\"Feature Ranking:\")\n",
    "df = pd.DataFrame()\n",
    "for i, j in zip( x_train_n, rf_model.feature_importances_ ):\n",
    "    aux = pd.DataFrame( {'feature': i, 'importance': j}, index=[0] )\n",
    "    df = pd.concat([df, aux], axis=0 )\n",
    "    \n",
    "print( df.sort_values( 'importance', ascending=False ) )"
   ]
  },
  {
   "cell_type": "code",
   "execution_count": null,
   "id": "f9070d62",
   "metadata": {
    "hidden": true
   },
   "outputs": [],
   "source": []
  },
  {
   "cell_type": "markdown",
   "id": "5728e724",
   "metadata": {
    "heading_collapsed": true
   },
   "source": [
    "# Machine Learning Modelling"
   ]
  },
  {
   "cell_type": "code",
   "execution_count": 17,
   "id": "f95dccd9",
   "metadata": {
    "ExecuteTime": {
     "end_time": "2023-07-18T15:07:01.117955Z",
     "start_time": "2023-07-18T15:07:01.105965Z"
    },
    "hidden": true
   },
   "outputs": [],
   "source": [
    "x_train = df4.drop(['preco'], axis=1)\n",
    "y_train = df4['preco']\n",
    "\n",
    "x_test = x_validation.copy()\n",
    "y_test = y_validation.copy()"
   ]
  },
  {
   "cell_type": "markdown",
   "id": "edd9dc16",
   "metadata": {
    "hidden": true
   },
   "source": [
    "## Linear Regression Model"
   ]
  },
  {
   "cell_type": "code",
   "execution_count": 38,
   "id": "459244a7",
   "metadata": {
    "ExecuteTime": {
     "end_time": "2023-07-18T15:03:06.582666Z",
     "start_time": "2023-07-18T15:03:06.522651Z"
    },
    "hidden": true
   },
   "outputs": [
    {
     "data": {
      "text/html": [
       "<div>\n",
       "<style scoped>\n",
       "    .dataframe tbody tr th:only-of-type {\n",
       "        vertical-align: middle;\n",
       "    }\n",
       "\n",
       "    .dataframe tbody tr th {\n",
       "        vertical-align: top;\n",
       "    }\n",
       "\n",
       "    .dataframe thead th {\n",
       "        text-align: right;\n",
       "    }\n",
       "</style>\n",
       "<table border=\"1\" class=\"dataframe\">\n",
       "  <thead>\n",
       "    <tr style=\"text-align: right;\">\n",
       "      <th></th>\n",
       "      <th>Model Name</th>\n",
       "      <th>MAE</th>\n",
       "      <th>MAPE</th>\n",
       "      <th>RMSE</th>\n",
       "    </tr>\n",
       "  </thead>\n",
       "  <tbody>\n",
       "    <tr>\n",
       "      <th>0</th>\n",
       "      <td>Linear Regression</td>\n",
       "      <td>33341.668666</td>\n",
       "      <td>0.252228</td>\n",
       "      <td>67123.126572</td>\n",
       "    </tr>\n",
       "  </tbody>\n",
       "</table>\n",
       "</div>"
      ],
      "text/plain": [
       "          Model Name           MAE      MAPE          RMSE\n",
       "0  Linear Regression  33341.668666  0.252228  67123.126572"
      ]
     },
     "execution_count": 38,
     "metadata": {},
     "output_type": "execute_result"
    }
   ],
   "source": [
    "# model\n",
    "lr_model = LinearRegression().fit( x_train, y_train )\n",
    "\n",
    "# prediction\n",
    "yhat_lr = lr_model.predict( x_test )\n",
    "\n",
    "# performance\n",
    "lr_result = ml_error( 'Linear Regression', np.expm1( y_test ), np.expm1( yhat_lr ) )\n",
    "lr_result"
   ]
  },
  {
   "cell_type": "markdown",
   "id": "59731647",
   "metadata": {
    "hidden": true
   },
   "source": [
    "## Random Forest Regressor"
   ]
  },
  {
   "cell_type": "code",
   "execution_count": 70,
   "id": "c4b8e730",
   "metadata": {
    "ExecuteTime": {
     "end_time": "2023-07-18T13:33:42.300712Z",
     "start_time": "2023-07-18T13:33:36.955933Z"
    },
    "hidden": true
   },
   "outputs": [
    {
     "data": {
      "text/html": [
       "<div>\n",
       "<style scoped>\n",
       "    .dataframe tbody tr th:only-of-type {\n",
       "        vertical-align: middle;\n",
       "    }\n",
       "\n",
       "    .dataframe tbody tr th {\n",
       "        vertical-align: top;\n",
       "    }\n",
       "\n",
       "    .dataframe thead th {\n",
       "        text-align: right;\n",
       "    }\n",
       "</style>\n",
       "<table border=\"1\" class=\"dataframe\">\n",
       "  <thead>\n",
       "    <tr style=\"text-align: right;\">\n",
       "      <th></th>\n",
       "      <th>Model Name</th>\n",
       "      <th>MAE</th>\n",
       "      <th>MAPE</th>\n",
       "      <th>RMSE</th>\n",
       "    </tr>\n",
       "  </thead>\n",
       "  <tbody>\n",
       "    <tr>\n",
       "      <th>0</th>\n",
       "      <td>Random Forest Regressor</td>\n",
       "      <td>27350.255069</td>\n",
       "      <td>0.219277</td>\n",
       "      <td>45640.499592</td>\n",
       "    </tr>\n",
       "  </tbody>\n",
       "</table>\n",
       "</div>"
      ],
      "text/plain": [
       "                Model Name           MAE      MAPE          RMSE\n",
       "0  Random Forest Regressor  27350.255069  0.219277  45640.499592"
      ]
     },
     "execution_count": 70,
     "metadata": {},
     "output_type": "execute_result"
    }
   ],
   "source": [
    "# model\n",
    "rf_model = RandomForestRegressor(n_estimators=100, n_jobs=-1, random_state=42 ).fit( x_train, y_train )\n",
    "\n",
    "# prediction\n",
    "yhat_rf = rf_model.predict( x_test )\n",
    "\n",
    "# performance\n",
    "rf_result = ml_error( 'Random Forest Regressor', np.expm1( y_test ), np.expm1( yhat_rf ) )\n",
    "rf_result"
   ]
  },
  {
   "cell_type": "markdown",
   "id": "555608ca",
   "metadata": {
    "hidden": true
   },
   "source": [
    "## XGBoost Regressor"
   ]
  },
  {
   "cell_type": "code",
   "execution_count": 71,
   "id": "ee605376",
   "metadata": {
    "ExecuteTime": {
     "end_time": "2023-07-18T13:33:47.023592Z",
     "start_time": "2023-07-18T13:33:44.045630Z"
    },
    "hidden": true
   },
   "outputs": [
    {
     "data": {
      "text/html": [
       "<div>\n",
       "<style scoped>\n",
       "    .dataframe tbody tr th:only-of-type {\n",
       "        vertical-align: middle;\n",
       "    }\n",
       "\n",
       "    .dataframe tbody tr th {\n",
       "        vertical-align: top;\n",
       "    }\n",
       "\n",
       "    .dataframe thead th {\n",
       "        text-align: right;\n",
       "    }\n",
       "</style>\n",
       "<table border=\"1\" class=\"dataframe\">\n",
       "  <thead>\n",
       "    <tr style=\"text-align: right;\">\n",
       "      <th></th>\n",
       "      <th>Model Name</th>\n",
       "      <th>MAE</th>\n",
       "      <th>MAPE</th>\n",
       "      <th>RMSE</th>\n",
       "    </tr>\n",
       "  </thead>\n",
       "  <tbody>\n",
       "    <tr>\n",
       "      <th>0</th>\n",
       "      <td>XGBoost Regressor</td>\n",
       "      <td>27180.376719</td>\n",
       "      <td>0.217619</td>\n",
       "      <td>45116.739434</td>\n",
       "    </tr>\n",
       "  </tbody>\n",
       "</table>\n",
       "</div>"
      ],
      "text/plain": [
       "          Model Name           MAE      MAPE          RMSE\n",
       "0  XGBoost Regressor  27180.376719  0.217619  45116.739434"
      ]
     },
     "execution_count": 71,
     "metadata": {},
     "output_type": "execute_result"
    }
   ],
   "source": [
    "# model\n",
    "xgb_model = xgb.XGBRegressor().fit( x_train, y_train )\n",
    "\n",
    "# prediction\n",
    "yhat_xgb = xgb_model.predict( x_test )\n",
    "\n",
    "# performance\n",
    "xgb_result = ml_error( 'XGBoost Regressor', np.expm1( y_test ), np.expm1( yhat_xgb ) )\n",
    "xgb_result"
   ]
  },
  {
   "cell_type": "markdown",
   "id": "c8e82bf7",
   "metadata": {
    "hidden": true
   },
   "source": [
    "## LGBM Regressor"
   ]
  },
  {
   "cell_type": "code",
   "execution_count": 72,
   "id": "2308c9f1",
   "metadata": {
    "ExecuteTime": {
     "end_time": "2023-07-18T13:33:48.993282Z",
     "start_time": "2023-07-18T13:33:48.645198Z"
    },
    "hidden": true
   },
   "outputs": [
    {
     "data": {
      "text/html": [
       "<div>\n",
       "<style scoped>\n",
       "    .dataframe tbody tr th:only-of-type {\n",
       "        vertical-align: middle;\n",
       "    }\n",
       "\n",
       "    .dataframe tbody tr th {\n",
       "        vertical-align: top;\n",
       "    }\n",
       "\n",
       "    .dataframe thead th {\n",
       "        text-align: right;\n",
       "    }\n",
       "</style>\n",
       "<table border=\"1\" class=\"dataframe\">\n",
       "  <thead>\n",
       "    <tr style=\"text-align: right;\">\n",
       "      <th></th>\n",
       "      <th>Model Name</th>\n",
       "      <th>MAE</th>\n",
       "      <th>MAPE</th>\n",
       "      <th>RMSE</th>\n",
       "    </tr>\n",
       "  </thead>\n",
       "  <tbody>\n",
       "    <tr>\n",
       "      <th>0</th>\n",
       "      <td>LGBM Regressor</td>\n",
       "      <td>26928.02552</td>\n",
       "      <td>0.215214</td>\n",
       "      <td>44566.094111</td>\n",
       "    </tr>\n",
       "  </tbody>\n",
       "</table>\n",
       "</div>"
      ],
      "text/plain": [
       "       Model Name          MAE      MAPE          RMSE\n",
       "0  LGBM Regressor  26928.02552  0.215214  44566.094111"
      ]
     },
     "execution_count": 72,
     "metadata": {},
     "output_type": "execute_result"
    }
   ],
   "source": [
    "# model\n",
    "lgbm_model = lgbm.LGBMRegressor().fit( x_train, y_train )\n",
    "\n",
    "# prediction\n",
    "yhat_lgbm = lgbm_model.predict( x_test )\n",
    "\n",
    "# performance\n",
    "lgbm_result = ml_error( 'LGBM Regressor', np.expm1( y_test ), np.expm1( yhat_lgbm ) )\n",
    "lgbm_result"
   ]
  },
  {
   "cell_type": "markdown",
   "id": "bb86c574",
   "metadata": {
    "hidden": true
   },
   "source": [
    "## CatBoost Regressor"
   ]
  },
  {
   "cell_type": "code",
   "execution_count": 123,
   "id": "931c3edd",
   "metadata": {
    "ExecuteTime": {
     "end_time": "2023-07-18T14:09:42.225331Z",
     "start_time": "2023-07-18T14:09:37.141643Z"
    },
    "hidden": true
   },
   "outputs": [
    {
     "data": {
      "text/html": [
       "<div>\n",
       "<style scoped>\n",
       "    .dataframe tbody tr th:only-of-type {\n",
       "        vertical-align: middle;\n",
       "    }\n",
       "\n",
       "    .dataframe tbody tr th {\n",
       "        vertical-align: top;\n",
       "    }\n",
       "\n",
       "    .dataframe thead th {\n",
       "        text-align: right;\n",
       "    }\n",
       "</style>\n",
       "<table border=\"1\" class=\"dataframe\">\n",
       "  <thead>\n",
       "    <tr style=\"text-align: right;\">\n",
       "      <th></th>\n",
       "      <th>Model Name</th>\n",
       "      <th>MAE</th>\n",
       "      <th>MAPE</th>\n",
       "      <th>RMSE</th>\n",
       "    </tr>\n",
       "  </thead>\n",
       "  <tbody>\n",
       "    <tr>\n",
       "      <th>0</th>\n",
       "      <td>CatBoost Regressor</td>\n",
       "      <td>26366.406052</td>\n",
       "      <td>0.210202</td>\n",
       "      <td>43392.122279</td>\n",
       "    </tr>\n",
       "  </tbody>\n",
       "</table>\n",
       "</div>"
      ],
      "text/plain": [
       "           Model Name           MAE      MAPE          RMSE\n",
       "0  CatBoost Regressor  26366.406052  0.210202  43392.122279"
      ]
     },
     "execution_count": 123,
     "metadata": {},
     "output_type": "execute_result"
    }
   ],
   "source": [
    "# model\n",
    "catb_model = catb.CatBoostRegressor(verbose=False).fit( x_train, y_train )\n",
    "\n",
    "# prediction\n",
    "yhat_catb = catb_model.predict( x_test )\n",
    "\n",
    "# performance\n",
    "catb_result = ml_error( 'CatBoost Regressor', np.expm1( y_test ), np.expm1( yhat_catb ) )\n",
    "catb_result"
   ]
  },
  {
   "cell_type": "markdown",
   "id": "db71c019",
   "metadata": {
    "hidden": true
   },
   "source": [
    "## Cross Validation"
   ]
  },
  {
   "cell_type": "code",
   "execution_count": 74,
   "id": "1d2e42aa",
   "metadata": {
    "ExecuteTime": {
     "end_time": "2023-07-18T13:35:03.046907Z",
     "start_time": "2023-07-18T13:34:04.903701Z"
    },
    "hidden": true
   },
   "outputs": [
    {
     "data": {
      "text/html": [
       "<div>\n",
       "<style scoped>\n",
       "    .dataframe tbody tr th:only-of-type {\n",
       "        vertical-align: middle;\n",
       "    }\n",
       "\n",
       "    .dataframe tbody tr th {\n",
       "        vertical-align: top;\n",
       "    }\n",
       "\n",
       "    .dataframe thead th {\n",
       "        text-align: right;\n",
       "    }\n",
       "</style>\n",
       "<table border=\"1\" class=\"dataframe\">\n",
       "  <thead>\n",
       "    <tr style=\"text-align: right;\">\n",
       "      <th></th>\n",
       "      <th>Model Name</th>\n",
       "      <th>MAE Mean</th>\n",
       "      <th>MAPE Mean</th>\n",
       "      <th>RMSE Mean</th>\n",
       "    </tr>\n",
       "  </thead>\n",
       "  <tbody>\n",
       "    <tr>\n",
       "      <th>0</th>\n",
       "      <td>LinearRegression</td>\n",
       "      <td>33873.7485</td>\n",
       "      <td>0.2378</td>\n",
       "      <td>268643.7100</td>\n",
       "    </tr>\n",
       "    <tr>\n",
       "      <th>1</th>\n",
       "      <td>RandomForestRegressor</td>\n",
       "      <td>24600.2803</td>\n",
       "      <td>0.1945</td>\n",
       "      <td>40052.9735</td>\n",
       "    </tr>\n",
       "    <tr>\n",
       "      <th>2</th>\n",
       "      <td>XGBRegressor</td>\n",
       "      <td>24622.1625</td>\n",
       "      <td>0.1946</td>\n",
       "      <td>40288.7580</td>\n",
       "    </tr>\n",
       "    <tr>\n",
       "      <th>3</th>\n",
       "      <td>LGBMRegressor</td>\n",
       "      <td>24191.1182</td>\n",
       "      <td>0.1919</td>\n",
       "      <td>39286.5704</td>\n",
       "    </tr>\n",
       "    <tr>\n",
       "      <th>4</th>\n",
       "      <td>CatBoostRegressor</td>\n",
       "      <td>24012.8915</td>\n",
       "      <td>0.1903</td>\n",
       "      <td>39136.3274</td>\n",
       "    </tr>\n",
       "  </tbody>\n",
       "</table>\n",
       "</div>"
      ],
      "text/plain": [
       "              Model Name    MAE Mean  MAPE Mean    RMSE Mean\n",
       "0       LinearRegression  33873.7485     0.2378  268643.7100\n",
       "1  RandomForestRegressor  24600.2803     0.1945   40052.9735\n",
       "2           XGBRegressor  24622.1625     0.1946   40288.7580\n",
       "3          LGBMRegressor  24191.1182     0.1919   39286.5704\n",
       "4      CatBoostRegressor  24012.8915     0.1903   39136.3274"
      ]
     },
     "execution_count": 74,
     "metadata": {},
     "output_type": "execute_result"
    }
   ],
   "source": [
    "models_list = [lr_model, rf_model, xgb_model, lgbm_model, catb_model]\n",
    "results_list = []\n",
    "\n",
    "for model in models_list:\n",
    "    results_model = cross_validation_regression( model, x_train, y_train, 5, verbose=False )\n",
    "    \n",
    "    results_list.append(results_model)\n",
    "    \n",
    "results_cv = pd.DataFrame(results_list)\n",
    "    \n",
    "results_cv"
   ]
  },
  {
   "cell_type": "markdown",
   "id": "204082fd",
   "metadata": {
    "heading_collapsed": true
   },
   "source": [
    "# Hyperparameter Fine Tuning"
   ]
  },
  {
   "cell_type": "code",
   "execution_count": 16,
   "id": "adef56be",
   "metadata": {
    "ExecuteTime": {
     "end_time": "2023-07-18T11:41:58.231610Z",
     "start_time": "2023-07-18T11:41:58.223610Z"
    },
    "hidden": true
   },
   "outputs": [],
   "source": [
    "## Crie o modelo de regressor CatBoost\n",
    "#catboost_model = catb.CatBoostRegressor(iterations=100, random_state=42, verbose=0)\n",
    "#\n",
    "## Defina a grade de hiperparâmetros para a busca aleatória\n",
    "#param_dist = {\n",
    "#    'learning_rate': expon(loc=0.01, scale=0.2),\n",
    "#    'depth': randint(3, 16),\n",
    "#    'l2_leaf_reg': expon(loc=1, scale=10),\n",
    "#    'bagging_temperature': expon(loc=0, scale=1),\n",
    "#    'random_strength': expon(loc=0, scale=1),\n",
    "#    'one_hot_max_size': randint(2, 10),\n",
    "#}\n",
    "#\n",
    "## Realize a busca aleatória com o RandomizedSearchCV\n",
    "#random_search = ms.RandomizedSearchCV(catboost_model, param_distributions=param_dist, n_iter=50, cv=5, scoring='neg_mean_squared_error', random_state=42, verbose=False)\n",
    "#random_search.fit(x_train, y_train)\n",
    "#\n",
    "## Exiba os melhores hiperparâmetros encontrados e o desempenho do modelo\n",
    "#print(\"Melhores hiperparâmetros:\")\n",
    "#print(random_search.best_params_)\n",
    "#print(\"Melhor MSE:\", -random_search.best_score_)"
   ]
  },
  {
   "cell_type": "code",
   "execution_count": 36,
   "id": "03b07e5b",
   "metadata": {
    "ExecuteTime": {
     "end_time": "2023-07-18T13:05:46.811116Z",
     "start_time": "2023-07-18T13:05:46.804116Z"
    },
    "hidden": true
   },
   "outputs": [],
   "source": [
    "best_param = {'bagging_temperature': 1.9713449718798333, 'depth': 9, 'l2_leaf_reg': 2.799114871179353, 'learning_rate': 0.16275231006818694, 'one_hot_max_size': 7, 'random_strength': 0.2511673382758245}"
   ]
  },
  {
   "cell_type": "code",
   "execution_count": 18,
   "id": "55fae05f",
   "metadata": {
    "ExecuteTime": {
     "end_time": "2023-07-18T15:07:20.961736Z",
     "start_time": "2023-07-18T15:07:07.955100Z"
    },
    "hidden": true
   },
   "outputs": [
    {
     "data": {
      "text/html": [
       "<div>\n",
       "<style scoped>\n",
       "    .dataframe tbody tr th:only-of-type {\n",
       "        vertical-align: middle;\n",
       "    }\n",
       "\n",
       "    .dataframe tbody tr th {\n",
       "        vertical-align: top;\n",
       "    }\n",
       "\n",
       "    .dataframe thead th {\n",
       "        text-align: right;\n",
       "    }\n",
       "</style>\n",
       "<table border=\"1\" class=\"dataframe\">\n",
       "  <thead>\n",
       "    <tr style=\"text-align: right;\">\n",
       "      <th></th>\n",
       "      <th>Model Name</th>\n",
       "      <th>MAE</th>\n",
       "      <th>MAPE</th>\n",
       "      <th>RMSE</th>\n",
       "    </tr>\n",
       "  </thead>\n",
       "  <tbody>\n",
       "    <tr>\n",
       "      <th>0</th>\n",
       "      <td>CatBoost Regressor</td>\n",
       "      <td>26607.963801</td>\n",
       "      <td>0.212053</td>\n",
       "      <td>43115.383203</td>\n",
       "    </tr>\n",
       "  </tbody>\n",
       "</table>\n",
       "</div>"
      ],
      "text/plain": [
       "           Model Name           MAE      MAPE          RMSE\n",
       "0  CatBoost Regressor  26607.963801  0.212053  43115.383203"
      ]
     },
     "execution_count": 18,
     "metadata": {},
     "output_type": "execute_result"
    }
   ],
   "source": [
    "# model com os parametros escolhidos\n",
    "catb_model_tunned = catb.CatBoostRegressor( bagging_temperature= 1.9713449718798333, \n",
    "                                            depth= 9, \n",
    "                                            l2_leaf_reg= 2.799114871179353, \n",
    "                                            learning_rate= 0.16275231006818694, \n",
    "                                            one_hot_max_size= 7, \n",
    "                                            random_strength= 0.2511673382758245, verbose=False).fit( x_train, y_train )\n",
    "\n",
    "# prediction\n",
    "yhat_catb_tunned = catb_model_tunned.predict( x_test )\n",
    "\n",
    "# performance\n",
    "catb_result_tunned = ml_error( 'CatBoost Regressor', np.expm1( y_test ), np.expm1( yhat_catb_tunned ) )\n",
    "catb_result_tunned"
   ]
  },
  {
   "cell_type": "code",
   "execution_count": 19,
   "id": "de0deffe",
   "metadata": {
    "ExecuteTime": {
     "end_time": "2023-07-18T15:07:23.971094Z",
     "start_time": "2023-07-18T15:07:23.939086Z"
    },
    "hidden": true
   },
   "outputs": [],
   "source": [
    "# Save trained model\n",
    "pickle.dump( catb_model_tunned, open('/Users/Luan/repos/lighthouse/models/catb_model_tunned.pkl', 'wb' ))"
   ]
  },
  {
   "cell_type": "code",
   "execution_count": 77,
   "id": "5a4101b9",
   "metadata": {
    "ExecuteTime": {
     "end_time": "2023-07-18T13:36:50.027822Z",
     "start_time": "2023-07-18T13:35:46.279676Z"
    },
    "hidden": true
   },
   "outputs": [
    {
     "data": {
      "text/plain": [
       "{'Model Name': 'CatBoostRegressor',\n",
       " 'MAE Mean': 24662.2179,\n",
       " 'MAPE Mean': 0.195,\n",
       " 'RMSE Mean': 40151.6354}"
      ]
     },
     "execution_count": 77,
     "metadata": {},
     "output_type": "execute_result"
    }
   ],
   "source": [
    "cross_validation_regression(catb_model_tunned, x_train, y_train, 5, verbose=False)"
   ]
  },
  {
   "cell_type": "markdown",
   "id": "943cb092",
   "metadata": {},
   "source": [
    "# Data test Transformation"
   ]
  },
  {
   "cell_type": "code",
   "execution_count": 20,
   "id": "4b54c6a4",
   "metadata": {
    "ExecuteTime": {
     "end_time": "2023-07-18T15:07:34.063907Z",
     "start_time": "2023-07-18T15:07:27.589405Z"
    }
   },
   "outputs": [],
   "source": [
    "transformer = Transformation()\n",
    "df_test_transformed = transformer.data_transform(df_test_pre)\n"
   ]
  },
  {
   "cell_type": "code",
   "execution_count": 21,
   "id": "637027b4",
   "metadata": {
    "ExecuteTime": {
     "end_time": "2023-07-18T15:07:41.775313Z",
     "start_time": "2023-07-18T15:07:41.755310Z"
    }
   },
   "outputs": [],
   "source": [
    "test = df_test_transformed.drop('id', axis=1)"
   ]
  },
  {
   "cell_type": "markdown",
   "id": "558d4ddd",
   "metadata": {},
   "source": [
    "# Predict"
   ]
  },
  {
   "cell_type": "code",
   "execution_count": 22,
   "id": "b04b79d7",
   "metadata": {
    "ExecuteTime": {
     "end_time": "2023-07-18T15:07:45.549783Z",
     "start_time": "2023-07-18T15:07:45.513777Z"
    }
   },
   "outputs": [],
   "source": [
    "prediction = pd.DataFrame(catb_model_tunned.predict(test))"
   ]
  },
  {
   "cell_type": "code",
   "execution_count": 24,
   "id": "418465a1",
   "metadata": {
    "ExecuteTime": {
     "end_time": "2023-07-18T15:09:26.308631Z",
     "start_time": "2023-07-18T15:09:26.278630Z"
    }
   },
   "outputs": [
    {
     "data": {
      "text/html": [
       "<div>\n",
       "<style scoped>\n",
       "    .dataframe tbody tr th:only-of-type {\n",
       "        vertical-align: middle;\n",
       "    }\n",
       "\n",
       "    .dataframe tbody tr th {\n",
       "        vertical-align: top;\n",
       "    }\n",
       "\n",
       "    .dataframe thead th {\n",
       "        text-align: right;\n",
       "    }\n",
       "</style>\n",
       "<table border=\"1\" class=\"dataframe\">\n",
       "  <thead>\n",
       "    <tr style=\"text-align: right;\">\n",
       "      <th></th>\n",
       "      <th>id</th>\n",
       "      <th>num_fotos</th>\n",
       "      <th>marca</th>\n",
       "      <th>modelo</th>\n",
       "      <th>versao</th>\n",
       "      <th>ano_de_fabricacao</th>\n",
       "      <th>ano_modelo</th>\n",
       "      <th>hodometro</th>\n",
       "      <th>cambio</th>\n",
       "      <th>num_portas</th>\n",
       "      <th>tipo</th>\n",
       "      <th>blindado</th>\n",
       "      <th>cor</th>\n",
       "      <th>tipo_vendedor</th>\n",
       "      <th>cidade_vendedor</th>\n",
       "      <th>estado_vendedor</th>\n",
       "      <th>anunciante</th>\n",
       "      <th>entrega_delivery</th>\n",
       "      <th>troca</th>\n",
       "      <th>elegivel_revisao</th>\n",
       "      <th>dono_aceita_troca</th>\n",
       "      <th>veiculo_único_dono</th>\n",
       "      <th>revisoes_concessionaria</th>\n",
       "      <th>ipva_pago</th>\n",
       "      <th>veiculo_licenciado</th>\n",
       "      <th>garantia_de_fábrica</th>\n",
       "      <th>revisoes_dentro_agenda</th>\n",
       "      <th>veiculo_alienado</th>\n",
       "      <th>preco</th>\n",
       "    </tr>\n",
       "  </thead>\n",
       "  <tbody>\n",
       "    <tr>\n",
       "      <th>0</th>\n",
       "      <td>13518783164498355150900635905895481162</td>\n",
       "      <td>8.0</td>\n",
       "      <td>NISSAN</td>\n",
       "      <td>VERSA</td>\n",
       "      <td>1.6 16V FLEXSTART V-DRIVE MANUAL</td>\n",
       "      <td>2021</td>\n",
       "      <td>2021.0</td>\n",
       "      <td>20258.0</td>\n",
       "      <td>Manual</td>\n",
       "      <td>4</td>\n",
       "      <td>Hatchback</td>\n",
       "      <td>N</td>\n",
       "      <td>Branco</td>\n",
       "      <td>PF</td>\n",
       "      <td>Rio de Janeiro</td>\n",
       "      <td>São Paulo (SP)</td>\n",
       "      <td>Pessoa Física</td>\n",
       "      <td>False</td>\n",
       "      <td>False</td>\n",
       "      <td>False</td>\n",
       "      <td>Aceita troca</td>\n",
       "      <td>NaN</td>\n",
       "      <td>NaN</td>\n",
       "      <td>IPVA pago</td>\n",
       "      <td>Licenciado</td>\n",
       "      <td>Garantia de fábrica</td>\n",
       "      <td>NaN</td>\n",
       "      <td>NaN</td>\n",
       "      <td>11.249163</td>\n",
       "    </tr>\n",
       "    <tr>\n",
       "      <th>1</th>\n",
       "      <td>299896161723793383246777788797566040330</td>\n",
       "      <td>18.0</td>\n",
       "      <td>FIAT</td>\n",
       "      <td>STRADA</td>\n",
       "      <td>1.4 MPI WORKING CS 8V FLEX 2P MANUAL</td>\n",
       "      <td>2021</td>\n",
       "      <td>2021.0</td>\n",
       "      <td>53045.0</td>\n",
       "      <td>Manual</td>\n",
       "      <td>2</td>\n",
       "      <td>Picape</td>\n",
       "      <td>N</td>\n",
       "      <td>Branco</td>\n",
       "      <td>PJ</td>\n",
       "      <td>Palmas</td>\n",
       "      <td>Amazonas (AM)</td>\n",
       "      <td>Loja</td>\n",
       "      <td>False</td>\n",
       "      <td>False</td>\n",
       "      <td>False</td>\n",
       "      <td>Aceita troca</td>\n",
       "      <td>Único dono</td>\n",
       "      <td>NaN</td>\n",
       "      <td>IPVA pago</td>\n",
       "      <td>Licenciado</td>\n",
       "      <td>NaN</td>\n",
       "      <td>NaN</td>\n",
       "      <td>NaN</td>\n",
       "      <td>11.014684</td>\n",
       "    </tr>\n",
       "    <tr>\n",
       "      <th>2</th>\n",
       "      <td>316180649972302128246133616457018378621</td>\n",
       "      <td>8.0</td>\n",
       "      <td>AUDI</td>\n",
       "      <td>Q5</td>\n",
       "      <td>2.0 TFSI GASOLINA BLACK S TRONIC</td>\n",
       "      <td>2018</td>\n",
       "      <td>2019.0</td>\n",
       "      <td>32486.0</td>\n",
       "      <td>Automática</td>\n",
       "      <td>4</td>\n",
       "      <td>Utilitário esportivo</td>\n",
       "      <td>N</td>\n",
       "      <td>Branco</td>\n",
       "      <td>PF</td>\n",
       "      <td>Goiânia</td>\n",
       "      <td>Goiás (GO)</td>\n",
       "      <td>Pessoa Física</td>\n",
       "      <td>False</td>\n",
       "      <td>False</td>\n",
       "      <td>False</td>\n",
       "      <td>Aceita troca</td>\n",
       "      <td>NaN</td>\n",
       "      <td>NaN</td>\n",
       "      <td>IPVA pago</td>\n",
       "      <td>NaN</td>\n",
       "      <td>NaN</td>\n",
       "      <td>NaN</td>\n",
       "      <td>NaN</td>\n",
       "      <td>12.383594</td>\n",
       "    </tr>\n",
       "    <tr>\n",
       "      <th>3</th>\n",
       "      <td>222527157104148385909188217274642813298</td>\n",
       "      <td>16.0</td>\n",
       "      <td>CHEVROLET</td>\n",
       "      <td>CRUZE</td>\n",
       "      <td>1.4 TURBO LT 16V FLEX 4P AUTOMÁTICO</td>\n",
       "      <td>2019</td>\n",
       "      <td>2020.0</td>\n",
       "      <td>24937.0</td>\n",
       "      <td>Automática</td>\n",
       "      <td>4</td>\n",
       "      <td>Sedã</td>\n",
       "      <td>N</td>\n",
       "      <td>Cinza</td>\n",
       "      <td>PJ</td>\n",
       "      <td>Presidente Prudente</td>\n",
       "      <td>São Paulo (SP)</td>\n",
       "      <td>Loja</td>\n",
       "      <td>False</td>\n",
       "      <td>False</td>\n",
       "      <td>False</td>\n",
       "      <td>Aceita troca</td>\n",
       "      <td>Único dono</td>\n",
       "      <td>NaN</td>\n",
       "      <td>IPVA pago</td>\n",
       "      <td>Licenciado</td>\n",
       "      <td>NaN</td>\n",
       "      <td>NaN</td>\n",
       "      <td>NaN</td>\n",
       "      <td>11.509156</td>\n",
       "    </tr>\n",
       "    <tr>\n",
       "      <th>4</th>\n",
       "      <td>160460343059850745858546502614838368036</td>\n",
       "      <td>8.0</td>\n",
       "      <td>FORD</td>\n",
       "      <td>ECOSPORT</td>\n",
       "      <td>1.5 TI-VCT FLEX SE AUTOMÁTICO</td>\n",
       "      <td>2019</td>\n",
       "      <td>2019.0</td>\n",
       "      <td>62074.0</td>\n",
       "      <td>Automática</td>\n",
       "      <td>4</td>\n",
       "      <td>Sedã</td>\n",
       "      <td>N</td>\n",
       "      <td>Branco</td>\n",
       "      <td>PJ</td>\n",
       "      <td>Limeira</td>\n",
       "      <td>São Paulo (SP)</td>\n",
       "      <td>Loja</td>\n",
       "      <td>False</td>\n",
       "      <td>False</td>\n",
       "      <td>False</td>\n",
       "      <td>Aceita troca</td>\n",
       "      <td>NaN</td>\n",
       "      <td>NaN</td>\n",
       "      <td>IPVA pago</td>\n",
       "      <td>Licenciado</td>\n",
       "      <td>NaN</td>\n",
       "      <td>NaN</td>\n",
       "      <td>NaN</td>\n",
       "      <td>11.369226</td>\n",
       "    </tr>\n",
       "  </tbody>\n",
       "</table>\n",
       "</div>"
      ],
      "text/plain": [
       "                                        id  num_fotos      marca    modelo                                versao  ano_de_fabricacao  ano_modelo  hodometro      cambio  num_portas                  tipo blindado     cor tipo_vendedor      cidade_vendedor estado_vendedor     anunciante  entrega_delivery  troca  elegivel_revisao dono_aceita_troca veiculo_único_dono revisoes_concessionaria  ipva_pago veiculo_licenciado  garantia_de_fábrica revisoes_dentro_agenda  veiculo_alienado      preco\n",
       "0   13518783164498355150900635905895481162        8.0     NISSAN     VERSA      1.6 16V FLEXSTART V-DRIVE MANUAL               2021      2021.0    20258.0      Manual           4             Hatchback        N  Branco            PF       Rio de Janeiro  São Paulo (SP)  Pessoa Física             False  False             False      Aceita troca                NaN                     NaN  IPVA pago         Licenciado  Garantia de fábrica                    NaN               NaN  11.249163\n",
       "1  299896161723793383246777788797566040330       18.0       FIAT    STRADA  1.4 MPI WORKING CS 8V FLEX 2P MANUAL               2021      2021.0    53045.0      Manual           2                Picape        N  Branco            PJ               Palmas   Amazonas (AM)           Loja             False  False             False      Aceita troca         Único dono                     NaN  IPVA pago         Licenciado                  NaN                    NaN               NaN  11.014684\n",
       "2  316180649972302128246133616457018378621        8.0       AUDI        Q5      2.0 TFSI GASOLINA BLACK S TRONIC               2018      2019.0    32486.0  Automática           4  Utilitário esportivo        N  Branco            PF              Goiânia      Goiás (GO)  Pessoa Física             False  False             False      Aceita troca                NaN                     NaN  IPVA pago                NaN                  NaN                    NaN               NaN  12.383594\n",
       "3  222527157104148385909188217274642813298       16.0  CHEVROLET     CRUZE   1.4 TURBO LT 16V FLEX 4P AUTOMÁTICO               2019      2020.0    24937.0  Automática           4                  Sedã        N   Cinza            PJ  Presidente Prudente  São Paulo (SP)           Loja             False  False             False      Aceita troca         Único dono                     NaN  IPVA pago         Licenciado                  NaN                    NaN               NaN  11.509156\n",
       "4  160460343059850745858546502614838368036        8.0       FORD  ECOSPORT         1.5 TI-VCT FLEX SE AUTOMÁTICO               2019      2019.0    62074.0  Automática           4                  Sedã        N  Branco            PJ              Limeira  São Paulo (SP)           Loja             False  False             False      Aceita troca                NaN                     NaN  IPVA pago         Licenciado                  NaN                    NaN               NaN  11.369226"
      ]
     },
     "execution_count": 24,
     "metadata": {},
     "output_type": "execute_result"
    }
   ],
   "source": [
    "cars_test['preco'] = prediction\n",
    "cars_test.head()"
   ]
  },
  {
   "cell_type": "code",
   "execution_count": 29,
   "id": "0dee6e3d",
   "metadata": {
    "ExecuteTime": {
     "end_time": "2023-07-18T15:11:47.102907Z",
     "start_time": "2023-07-18T15:11:46.954872Z"
    }
   },
   "outputs": [],
   "source": [
    "cars_test.to_csv('predicted.csv', index=False)"
   ]
  },
  {
   "cell_type": "code",
   "execution_count": null,
   "id": "2bbde64c",
   "metadata": {},
   "outputs": [],
   "source": []
  },
  {
   "cell_type": "code",
   "execution_count": null,
   "id": "68d35c50",
   "metadata": {},
   "outputs": [],
   "source": []
  }
 ],
 "metadata": {
  "kernelspec": {
   "display_name": "Python 3 (ipykernel)",
   "language": "python",
   "name": "python3"
  },
  "language_info": {
   "codemirror_mode": {
    "name": "ipython",
    "version": 3
   },
   "file_extension": ".py",
   "mimetype": "text/x-python",
   "name": "python",
   "nbconvert_exporter": "python",
   "pygments_lexer": "ipython3",
   "version": "3.9.17"
  },
  "varInspector": {
   "cols": {
    "lenName": 16,
    "lenType": 16,
    "lenVar": 40
   },
   "kernels_config": {
    "python": {
     "delete_cmd_postfix": "",
     "delete_cmd_prefix": "del ",
     "library": "var_list.py",
     "varRefreshCmd": "print(var_dic_list())"
    },
    "r": {
     "delete_cmd_postfix": ") ",
     "delete_cmd_prefix": "rm(",
     "library": "var_list.r",
     "varRefreshCmd": "cat(var_dic_list()) "
    }
   },
   "types_to_exclude": [
    "module",
    "function",
    "builtin_function_or_method",
    "instance",
    "_Feature"
   ],
   "window_display": false
  }
 },
 "nbformat": 4,
 "nbformat_minor": 5
}
